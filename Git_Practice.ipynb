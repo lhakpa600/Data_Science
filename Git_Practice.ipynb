{
 "cells": [
  {
   "cell_type": "code",
   "execution_count": 1,
   "id": "19ac794c-1f64-46da-8814-3a6cc8d1396a",
   "metadata": {},
   "outputs": [
    {
     "name": "stdin",
     "output_type": "stream",
     "text": [
      "Enter the number till which you want the Factorial  7\n"
     ]
    },
    {
     "name": "stdout",
     "output_type": "stream",
     "text": [
      "5040\n"
     ]
    }
   ],
   "source": [
    "num1=int(input('Enter the number till which you want the Factorial '))\n",
    "Factorial=1\n",
    "for i in range(1,num1+1):\n",
    "    Factorial*=i\n",
    "print(Factorial)"
   ]
  },
  {
   "cell_type": "code",
   "execution_count": null,
   "id": "872b2a85-4edd-4e2f-b213-aa72abcfdcb5",
   "metadata": {},
   "outputs": [],
   "source": [
    "num1=int(input('Enter the number till which you want the Factorial '))\n",
    "Factorial=1\n",
    "for i in range(1,num1+1):\n",
    "    Factorial*=i\n",
    "print(Factorial)"
   ]
  }
 ],
 "metadata": {
  "kernelspec": {
   "display_name": "Python 3 (ipykernel)",
   "language": "python",
   "name": "python3"
  },
  "language_info": {
   "codemirror_mode": {
    "name": "ipython",
    "version": 3
   },
   "file_extension": ".py",
   "mimetype": "text/x-python",
   "name": "python",
   "nbconvert_exporter": "python",
   "pygments_lexer": "ipython3",
   "version": "3.12.4"
  }
 },
 "nbformat": 4,
 "nbformat_minor": 5
}

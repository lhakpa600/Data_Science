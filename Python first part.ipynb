{
 "cells": [
  {
   "cell_type": "code",
   "execution_count": 1,
   "id": "95d6077b-9136-4998-9d03-25cc2e52c90f",
   "metadata": {},
   "outputs": [
    {
     "name": "stdout",
     "output_type": "stream",
     "text": [
      "LHAKPA DOLMA....\n"
     ]
    }
   ],
   "source": [
    "print(\"LHAKPA DOLMA....\")"
   ]
  },
  {
   "cell_type": "code",
   "execution_count": 2,
   "id": "5dc73976-1d0c-41ad-aa3b-9191d56b3b59",
   "metadata": {},
   "outputs": [
    {
     "name": "stdout",
     "output_type": "stream",
     "text": [
      "What is your name?Lhakpa Dolma Sherpa\n"
     ]
    }
   ],
   "source": [
    "name=input('What is your name?')"
   ]
  },
  {
   "cell_type": "markdown",
   "id": "bac9e257",
   "metadata": {},
   "source": [
    "# PYTHON "
   ]
  },
  {
   "cell_type": "code",
   "execution_count": 5,
   "id": "e9589b14",
   "metadata": {},
   "outputs": [],
   "source": [
    "a=15"
   ]
  },
  {
   "cell_type": "code",
   "execution_count": 6,
   "id": "831b6431",
   "metadata": {},
   "outputs": [
    {
     "data": {
      "text/plain": [
       "int"
      ]
     },
     "execution_count": 6,
     "metadata": {},
     "output_type": "execute_result"
    }
   ],
   "source": [
    "type(a)"
   ]
  },
  {
   "cell_type": "code",
   "execution_count": 7,
   "id": "adb4ff9f",
   "metadata": {},
   "outputs": [],
   "source": [
    "b='NEPAL'"
   ]
  },
  {
   "cell_type": "code",
   "execution_count": 8,
   "id": "0ed024d3",
   "metadata": {},
   "outputs": [
    {
     "data": {
      "text/plain": [
       "str"
      ]
     },
     "execution_count": 8,
     "metadata": {},
     "output_type": "execute_result"
    }
   ],
   "source": [
    "type(b)"
   ]
  },
  {
   "cell_type": "code",
   "execution_count": 17,
   "id": "e48003fa",
   "metadata": {},
   "outputs": [],
   "source": [
    "C=True"
   ]
  },
  {
   "cell_type": "code",
   "execution_count": 18,
   "id": "4742948e",
   "metadata": {},
   "outputs": [
    {
     "data": {
      "text/plain": [
       "bool"
      ]
     },
     "execution_count": 18,
     "metadata": {},
     "output_type": "execute_result"
    }
   ],
   "source": [
    "type(c)"
   ]
  },
  {
   "cell_type": "code",
   "execution_count": 19,
   "id": "15cc3b25",
   "metadata": {},
   "outputs": [],
   "source": [
    "d=6.2"
   ]
  },
  {
   "cell_type": "code",
   "execution_count": 21,
   "id": "cd6d41e3",
   "metadata": {},
   "outputs": [
    {
     "data": {
      "text/plain": [
       "float"
      ]
     },
     "execution_count": 21,
     "metadata": {},
     "output_type": "execute_result"
    }
   ],
   "source": [
    "type(d)"
   ]
  },
  {
   "cell_type": "markdown",
   "id": "ab9ea804",
   "metadata": {},
   "source": [
    "# Data Type, Dynamic type and string "
   ]
  },
  {
   "cell_type": "code",
   "execution_count": 22,
   "id": "3dc6e03e",
   "metadata": {},
   "outputs": [],
   "source": [
    "a='name'\n",
    "b=257\n",
    "c=5+4j\n",
    "d=6.88"
   ]
  },
  {
   "cell_type": "code",
   "execution_count": 23,
   "id": "5965ee5f",
   "metadata": {},
   "outputs": [
    {
     "data": {
      "text/plain": [
       "complex"
      ]
     },
     "execution_count": 23,
     "metadata": {},
     "output_type": "execute_result"
    }
   ],
   "source": [
    "type(c)"
   ]
  },
  {
   "cell_type": "markdown",
   "id": "969d9abe",
   "metadata": {},
   "source": [
    "### If you want to change value "
   ]
  },
  {
   "cell_type": "code",
   "execution_count": 24,
   "id": "60e348ce",
   "metadata": {},
   "outputs": [],
   "source": [
    "Data_casting=int(b)"
   ]
  },
  {
   "cell_type": "code",
   "execution_count": 26,
   "id": "afa38756",
   "metadata": {},
   "outputs": [
    {
     "data": {
      "text/plain": [
       "int"
      ]
     },
     "execution_count": 26,
     "metadata": {},
     "output_type": "execute_result"
    }
   ],
   "source": [
    "type(Data_casting)"
   ]
  },
  {
   "cell_type": "code",
   "execution_count": 27,
   "id": "b77ba7fe",
   "metadata": {},
   "outputs": [],
   "source": [
    "x=str(Data_casting)"
   ]
  },
  {
   "cell_type": "code",
   "execution_count": 28,
   "id": "a0ea7b79",
   "metadata": {},
   "outputs": [
    {
     "data": {
      "text/plain": [
       "int"
      ]
     },
     "execution_count": 28,
     "metadata": {},
     "output_type": "execute_result"
    }
   ],
   "source": [
    "b=str "
   ]
  },
  {
   "cell_type": "code",
   "execution_count": 29,
   "id": "b1069313",
   "metadata": {},
   "outputs": [
    {
     "data": {
      "text/plain": [
       "str"
      ]
     },
     "execution_count": 29,
     "metadata": {},
     "output_type": "execute_result"
    }
   ],
   "source": [
    "type(x)"
   ]
  },
  {
   "cell_type": "code",
   "execution_count": 48,
   "id": "23cd3592",
   "metadata": {},
   "outputs": [
    {
     "data": {
      "text/plain": [
       "str"
      ]
     },
     "execution_count": 48,
     "metadata": {},
     "output_type": "execute_result"
    }
   ],
   "source": [
    "type(b)"
   ]
  },
  {
   "cell_type": "code",
   "execution_count": 49,
   "id": "df9f3148",
   "metadata": {},
   "outputs": [],
   "source": [
    "import random "
   ]
  },
  {
   "cell_type": "code",
   "execution_count": 50,
   "id": "ac1a8b5b",
   "metadata": {},
   "outputs": [
    {
     "name": "stdout",
     "output_type": "stream",
     "text": [
      "22\n"
     ]
    }
   ],
   "source": [
    "print(random.randrange(1,50))"
   ]
  },
  {
   "cell_type": "markdown",
   "id": "c9ac48fa",
   "metadata": {},
   "source": [
    "# String"
   ]
  },
  {
   "cell_type": "code",
   "execution_count": 34,
   "id": "649b6f1d",
   "metadata": {},
   "outputs": [
    {
     "name": "stdout",
     "output_type": "stream",
     "text": [
      "Hello,World!\n"
     ]
    }
   ],
   "source": [
    "print('Hello,World!')"
   ]
  },
  {
   "cell_type": "code",
   "execution_count": 39,
   "id": "beea17f0",
   "metadata": {},
   "outputs": [],
   "source": [
    "mult= '''This is me Lhakpa \n",
    "I am 27 years old\n",
    "'''"
   ]
  },
  {
   "cell_type": "code",
   "execution_count": 36,
   "id": "2afddd7f",
   "metadata": {},
   "outputs": [
    {
     "name": "stdout",
     "output_type": "stream",
     "text": [
      "This is me Lhakpa \n",
      "I am 27 years old\n",
      "\n"
     ]
    }
   ],
   "source": [
    "print(mult)"
   ]
  },
  {
   "cell_type": "code",
   "execution_count": 40,
   "id": "0f2b5e2a",
   "metadata": {},
   "outputs": [],
   "source": [
    "a='This is me lHAKPA. I am a mother'"
   ]
  },
  {
   "cell_type": "code",
   "execution_count": 41,
   "id": "daef711a",
   "metadata": {},
   "outputs": [
    {
     "name": "stdout",
     "output_type": "stream",
     "text": [
      "This is me lHAKPA. I am a mother\n"
     ]
    }
   ],
   "source": [
    "print(a)"
   ]
  },
  {
   "cell_type": "code",
   "execution_count": 42,
   "id": "12bdf48d",
   "metadata": {},
   "outputs": [],
   "source": [
    "b= \"This is me Lhakpa. I am a mother. I have 1 daughter\""
   ]
  },
  {
   "cell_type": "code",
   "execution_count": 43,
   "id": "f6347084",
   "metadata": {},
   "outputs": [
    {
     "name": "stdout",
     "output_type": "stream",
     "text": [
      "This is me Lhakpa. I am a mother. I have 1 daughter\n"
     ]
    }
   ],
   "source": [
    "print(b)"
   ]
  },
  {
   "cell_type": "code",
   "execution_count": 44,
   "id": "046a3938",
   "metadata": {},
   "outputs": [],
   "source": [
    "a=65\n",
    "b=70\n",
    "c=30"
   ]
  },
  {
   "cell_type": "code",
   "execution_count": 45,
   "id": "a24c9c22",
   "metadata": {},
   "outputs": [
    {
     "name": "stdout",
     "output_type": "stream",
     "text": [
      "165\n"
     ]
    }
   ],
   "source": [
    "print(a+b+c)"
   ]
  },
  {
   "cell_type": "code",
   "execution_count": null,
   "id": "0c7b4c9d-69f2-418f-9400-5ed051925e11",
   "metadata": {},
   "outputs": [],
   "source": [
    "#str.endswith(\"\") #rerurns true or fals"
   ]
  },
  {
   "cell_type": "code",
   "execution_count": 38,
   "id": "77d349d9-5d58-4693-ad7e-ceb7153dcdaf",
   "metadata": {},
   "outputs": [],
   "source": [
    "str= \"I am Lhakpa Dolma Sherpa. I am 28 years old.\""
   ]
  },
  {
   "cell_type": "code",
   "execution_count": 40,
   "id": "6e80158c-f033-439c-8f02-38e902710757",
   "metadata": {},
   "outputs": [
    {
     "data": {
      "text/plain": [
       "False"
      ]
     },
     "execution_count": 40,
     "metadata": {},
     "output_type": "execute_result"
    }
   ],
   "source": [
    "str.endswith(\"pa\")"
   ]
  },
  {
   "cell_type": "code",
   "execution_count": 42,
   "id": "e758fe6c-11cf-401d-a798-835c31ebbd9b",
   "metadata": {},
   "outputs": [
    {
     "data": {
      "text/plain": [
       "True"
      ]
     },
     "execution_count": 42,
     "metadata": {},
     "output_type": "execute_result"
    }
   ],
   "source": [
    "str.endswith(\"ld.\")"
   ]
  },
  {
   "cell_type": "code",
   "execution_count": 59,
   "id": "f320ab44-4e68-4517-9dd4-e81c2140e7d8",
   "metadata": {},
   "outputs": [],
   "source": [
    "#capitaliza\n",
    "str=\"i am Lhakpa Dolma sherpa\"\n",
    "str=str.capitalize()   #yo ektal matra huncha \n"
   ]
  },
  {
   "cell_type": "code",
   "execution_count": 62,
   "id": "49d519e7-b989-4169-8560-49c19f0cd7d5",
   "metadata": {},
   "outputs": [
    {
     "data": {
      "text/plain": [
       "'I am lhakpa dolma sherpa'"
      ]
     },
     "execution_count": 62,
     "metadata": {},
     "output_type": "execute_result"
    }
   ],
   "source": [
    "str   "
   ]
  },
  {
   "cell_type": "code",
   "execution_count": 66,
   "id": "74808d4f-0028-480d-aab3-f48ee2064cee",
   "metadata": {},
   "outputs": [],
   "source": [
    "#replace \n",
    "str=\"I am Lhakpa Dolma\"\n",
    "str=str.replace(\"a\",\"O\")"
   ]
  },
  {
   "cell_type": "code",
   "execution_count": 68,
   "id": "e041ce09-b6ff-4c88-a899-1a1b74bf0547",
   "metadata": {},
   "outputs": [
    {
     "data": {
      "text/plain": [
       "'I Om LhOkpO DolmO'"
      ]
     },
     "execution_count": 68,
     "metadata": {},
     "output_type": "execute_result"
    }
   ],
   "source": [
    "str"
   ]
  },
  {
   "cell_type": "code",
   "execution_count": 88,
   "id": "a7c53286-f1c2-47aa-bd09-0aaae7a55c43",
   "metadata": {},
   "outputs": [
    {
     "name": "stdout",
     "output_type": "stream",
     "text": [
      "5\n"
     ]
    }
   ],
   "source": [
    "#find\n",
    "str=\"I am LHAKPA\"\n",
    "print(str.find(\"L\"))"
   ]
  },
  {
   "cell_type": "code",
   "execution_count": 92,
   "id": "030d873c-ec49-4b15-a1ed-e6dd3e4e09d9",
   "metadata": {},
   "outputs": [
    {
     "name": "stdout",
     "output_type": "stream",
     "text": [
      "2\n"
     ]
    }
   ],
   "source": [
    "#count\n",
    "str=\"I am lhakpa dolma sherpa and I am from kathmandu\"\n",
    "print(str.count(\"I\"))"
   ]
  },
  {
   "cell_type": "markdown",
   "id": "e3640d61",
   "metadata": {},
   "source": [
    "# ARRAY"
   ]
  },
  {
   "cell_type": "code",
   "execution_count": 49,
   "id": "1998cb23",
   "metadata": {},
   "outputs": [],
   "source": [
    "abc=\"Outside the box study center\""
   ]
  },
  {
   "cell_type": "code",
   "execution_count": 7,
   "id": "4f0d0f09",
   "metadata": {},
   "outputs": [
    {
     "data": {
      "text/plain": [
       "' '"
      ]
     },
     "execution_count": 7,
     "metadata": {},
     "output_type": "execute_result"
    }
   ],
   "source": [
    "abc[11]"
   ]
  },
  {
   "cell_type": "code",
   "execution_count": 9,
   "id": "a4e4d6e4",
   "metadata": {},
   "outputs": [
    {
     "data": {
      "text/plain": [
       "'Outside '"
      ]
     },
     "execution_count": 9,
     "metadata": {},
     "output_type": "execute_result"
    }
   ],
   "source": [
    "abc[0:8]"
   ]
  },
  {
   "cell_type": "markdown",
   "id": "84426c64",
   "metadata": {},
   "source": [
    "# SINGLE POSITION "
   ]
  },
  {
   "cell_type": "code",
   "execution_count": 12,
   "id": "081ce5fd",
   "metadata": {},
   "outputs": [
    {
     "data": {
      "text/plain": [
       "'Outside the box study center'"
      ]
     },
     "execution_count": 12,
     "metadata": {},
     "output_type": "execute_result"
    }
   ],
   "source": [
    "abc [:]"
   ]
  },
  {
   "cell_type": "code",
   "execution_count": 14,
   "id": "74daaa1b",
   "metadata": {},
   "outputs": [
    {
     "data": {
      "text/plain": [
       "'Outsi'"
      ]
     },
     "execution_count": 14,
     "metadata": {},
     "output_type": "execute_result"
    }
   ],
   "source": [
    "abc[:5]"
   ]
  },
  {
   "cell_type": "code",
   "execution_count": 16,
   "id": "b8d8a750",
   "metadata": {},
   "outputs": [
    {
     "data": {
      "text/plain": [
       "'Outside'"
      ]
     },
     "execution_count": 16,
     "metadata": {},
     "output_type": "execute_result"
    }
   ],
   "source": [
    "abc[:7]"
   ]
  },
  {
   "cell_type": "code",
   "execution_count": 18,
   "id": "4b0ff546",
   "metadata": {},
   "outputs": [
    {
     "data": {
      "text/plain": [
       "'utside the box study center'"
      ]
     },
     "execution_count": 18,
     "metadata": {},
     "output_type": "execute_result"
    }
   ],
   "source": [
    "abc[1:]"
   ]
  },
  {
   "cell_type": "markdown",
   "id": "0250f23c",
   "metadata": {},
   "source": [
    "# NEGATIVE INDEXING"
   ]
  },
  {
   "cell_type": "code",
   "execution_count": 21,
   "id": "eacc71e0",
   "metadata": {},
   "outputs": [
    {
     "data": {
      "text/plain": [
       "'r'"
      ]
     },
     "execution_count": 21,
     "metadata": {},
     "output_type": "execute_result"
    }
   ],
   "source": [
    "abc[-1:]"
   ]
  },
  {
   "cell_type": "code",
   "execution_count": 23,
   "id": "07506fa8",
   "metadata": {},
   "outputs": [
    {
     "data": {
      "text/plain": [
       "'cente'"
      ]
     },
     "execution_count": 23,
     "metadata": {},
     "output_type": "execute_result"
    }
   ],
   "source": [
    "abc[-6:-1]"
   ]
  },
  {
   "cell_type": "markdown",
   "id": "2a5292e3",
   "metadata": {},
   "source": [
    "# MODIFY STRINGS"
   ]
  },
  {
   "cell_type": "code",
   "execution_count": 26,
   "id": "d45eba92",
   "metadata": {},
   "outputs": [],
   "source": [
    "a='I live in kathmandu and i am working as a manager in hotel hilton'"
   ]
  },
  {
   "cell_type": "code",
   "execution_count": 28,
   "id": "04abc961",
   "metadata": {},
   "outputs": [
    {
     "name": "stdout",
     "output_type": "stream",
     "text": [
      "I live in kathmandu and i am working as a manager in hotel hilton\n"
     ]
    }
   ],
   "source": [
    "print(a)"
   ]
  },
  {
   "cell_type": "code",
   "execution_count": 38,
   "id": "ca28582a",
   "metadata": {},
   "outputs": [
    {
     "data": {
      "text/plain": [
       "'I LIVE IN KATHMANDU AND I AM WORKING AS A MANAGER IN HOTEL HILTON'"
      ]
     },
     "execution_count": 38,
     "metadata": {},
     "output_type": "execute_result"
    }
   ],
   "source": [
    "a.upper()"
   ]
  },
  {
   "cell_type": "code",
   "execution_count": 39,
   "id": "260b2a71",
   "metadata": {},
   "outputs": [
    {
     "data": {
      "text/plain": [
       "'i live in kathmandu and i am working as a manager in hotel hilton'"
      ]
     },
     "execution_count": 39,
     "metadata": {},
     "output_type": "execute_result"
    }
   ],
   "source": [
    "a.lower()"
   ]
  },
  {
   "cell_type": "code",
   "execution_count": 40,
   "id": "2b80813d",
   "metadata": {},
   "outputs": [],
   "source": [
    "def lower(x):\n",
    "    print(x.lower())"
   ]
  },
  {
   "cell_type": "code",
   "execution_count": 41,
   "id": "261c3b3a",
   "metadata": {},
   "outputs": [
    {
     "name": "stdout",
     "output_type": "stream",
     "text": [
      "i live in kathmandu and i am working as a manager in hotel hilton\n"
     ]
    }
   ],
   "source": [
    "lower(a)"
   ]
  },
  {
   "cell_type": "code",
   "execution_count": 42,
   "id": "c1068dcc",
   "metadata": {},
   "outputs": [
    {
     "data": {
      "text/plain": [
       "'I live in kathmandu and i am working as a manager in hotel hilton'"
      ]
     },
     "execution_count": 42,
     "metadata": {},
     "output_type": "execute_result"
    }
   ],
   "source": [
    "a.strip()"
   ]
  },
  {
   "cell_type": "code",
   "execution_count": 43,
   "id": "b89fb395",
   "metadata": {},
   "outputs": [
    {
     "data": {
      "text/plain": [
       "'I live in pokhara and i am working as a manager in hotel hilton'"
      ]
     },
     "execution_count": 43,
     "metadata": {},
     "output_type": "execute_result"
    }
   ],
   "source": [
    "a.replace('kathmandu', 'pokhara')"
   ]
  },
  {
   "cell_type": "code",
   "execution_count": 44,
   "id": "86cfca42",
   "metadata": {},
   "outputs": [
    {
     "data": {
      "text/plain": [
       "['I',\n",
       " 'live',\n",
       " 'in',\n",
       " 'kathmandu',\n",
       " 'and',\n",
       " 'i',\n",
       " 'am',\n",
       " 'working',\n",
       " 'as',\n",
       " 'a',\n",
       " 'manager',\n",
       " 'in',\n",
       " 'hotel',\n",
       " 'hilton']"
      ]
     },
     "execution_count": 44,
     "metadata": {},
     "output_type": "execute_result"
    }
   ],
   "source": [
    "a.split()"
   ]
  },
  {
   "cell_type": "code",
   "execution_count": 45,
   "id": "338ac3b3",
   "metadata": {},
   "outputs": [
    {
     "data": {
      "text/plain": [
       "['I live in kathmandu and i am working as a manager in hotel hilton']"
      ]
     },
     "execution_count": 45,
     "metadata": {},
     "output_type": "execute_result"
    }
   ],
   "source": [
    "a.split('&')"
   ]
  },
  {
   "cell_type": "markdown",
   "id": "e3f8634f",
   "metadata": {},
   "source": [
    "# concatenation"
   ]
  },
  {
   "cell_type": "code",
   "execution_count": 15,
   "id": "932df630",
   "metadata": {},
   "outputs": [],
   "source": [
    "a='Hello'\n",
    "b='World'"
   ]
  },
  {
   "cell_type": "code",
   "execution_count": 16,
   "id": "8d4bd289",
   "metadata": {},
   "outputs": [],
   "source": [
    "d=a+b"
   ]
  },
  {
   "cell_type": "code",
   "execution_count": 17,
   "id": "d6329588",
   "metadata": {},
   "outputs": [
    {
     "data": {
      "text/plain": [
       "'HelloWorld'"
      ]
     },
     "execution_count": 17,
     "metadata": {},
     "output_type": "execute_result"
    }
   ],
   "source": [
    "d"
   ]
  },
  {
   "cell_type": "markdown",
   "id": "b120af8c",
   "metadata": {},
   "source": [
    "# String Format "
   ]
  },
  {
   "cell_type": "code",
   "execution_count": 19,
   "id": "b7147a19",
   "metadata": {},
   "outputs": [],
   "source": [
    "a=' my percentage in exam was more than'\n",
    "per=90"
   ]
  },
  {
   "cell_type": "code",
   "execution_count": 21,
   "id": "f0d03564",
   "metadata": {},
   "outputs": [],
   "source": [
    "added_text=f'my percentage in exam was more than {per}'"
   ]
  },
  {
   "cell_type": "code",
   "execution_count": 22,
   "id": "2fca55d5",
   "metadata": {},
   "outputs": [
    {
     "data": {
      "text/plain": [
       "'my percentage in exam was more than 90'"
      ]
     },
     "execution_count": 22,
     "metadata": {},
     "output_type": "execute_result"
    }
   ],
   "source": [
    "added_text"
   ]
  },
  {
   "cell_type": "code",
   "execution_count": 24,
   "id": "3c890338",
   "metadata": {},
   "outputs": [],
   "source": [
    "added_text_a=f'my percentage in exam was more than {per:.2f}'"
   ]
  },
  {
   "cell_type": "code",
   "execution_count": 25,
   "id": "db61e1b1",
   "metadata": {},
   "outputs": [
    {
     "data": {
      "text/plain": [
       "'my percentage in exam was more than 90.00'"
      ]
     },
     "execution_count": 25,
     "metadata": {},
     "output_type": "execute_result"
    }
   ],
   "source": [
    "added_text_a"
   ]
  },
  {
   "cell_type": "markdown",
   "id": "366e9f9e",
   "metadata": {},
   "source": [
    "# ESCAPE CHARACTER "
   ]
  },
  {
   "cell_type": "code",
   "execution_count": 26,
   "id": "35227c49",
   "metadata": {},
   "outputs": [],
   "source": [
    "#single quotation excape way\n",
    "abc='she is Ram\\'s Mother'"
   ]
  },
  {
   "cell_type": "code",
   "execution_count": 27,
   "id": "d6bf995e",
   "metadata": {},
   "outputs": [
    {
     "data": {
      "text/plain": [
       "\"she is Ram's Mother\""
      ]
     },
     "execution_count": 27,
     "metadata": {},
     "output_type": "execute_result"
    }
   ],
   "source": [
    "abc"
   ]
  },
  {
   "cell_type": "code",
   "execution_count": 33,
   "id": "0ce8ae11",
   "metadata": {},
   "outputs": [],
   "source": [
    "abc='she is Ram\\'s Mother.\\n Her name is Lina.'"
   ]
  },
  {
   "cell_type": "code",
   "execution_count": 29,
   "id": "9b3832a2",
   "metadata": {},
   "outputs": [
    {
     "data": {
      "text/plain": [
       "\"she is Ram's Mother.\\n Her name is Lina\""
      ]
     },
     "execution_count": 29,
     "metadata": {},
     "output_type": "execute_result"
    }
   ],
   "source": [
    "abc"
   ]
  },
  {
   "cell_type": "code",
   "execution_count": 34,
   "id": "e8f3be80",
   "metadata": {},
   "outputs": [
    {
     "name": "stdout",
     "output_type": "stream",
     "text": [
      "she is Ram's Mother.\n",
      " Her name is Lina.\n"
     ]
    }
   ],
   "source": [
    "print(abc)"
   ]
  },
  {
   "cell_type": "markdown",
   "id": "8746f962",
   "metadata": {},
   "source": [
    "# Boolean value"
   ]
  },
  {
   "cell_type": "code",
   "execution_count": 46,
   "id": "b0d5b2c0",
   "metadata": {},
   "outputs": [
    {
     "name": "stdout",
     "output_type": "stream",
     "text": [
      "True\n"
     ]
    }
   ],
   "source": [
    "print(3<20)"
   ]
  },
  {
   "cell_type": "code",
   "execution_count": 47,
   "id": "d3221541",
   "metadata": {},
   "outputs": [
    {
     "name": "stdout",
     "output_type": "stream",
     "text": [
      "False\n"
     ]
    }
   ],
   "source": [
    "print(3>20)"
   ]
  },
  {
   "cell_type": "markdown",
   "id": "8e979cb7",
   "metadata": {},
   "source": [
    "## python operators"
   ]
  },
  {
   "cell_type": "code",
   "execution_count": 51,
   "id": "58e9f7bd",
   "metadata": {},
   "outputs": [],
   "source": [
    "a=102\n",
    "b=50"
   ]
  },
  {
   "cell_type": "code",
   "execution_count": 52,
   "id": "34f841e0",
   "metadata": {},
   "outputs": [
    {
     "data": {
      "text/plain": [
       "152"
      ]
     },
     "execution_count": 52,
     "metadata": {},
     "output_type": "execute_result"
    }
   ],
   "source": [
    "a+b"
   ]
  },
  {
   "cell_type": "code",
   "execution_count": 53,
   "id": "4254e13a",
   "metadata": {},
   "outputs": [
    {
     "data": {
      "text/plain": [
       "52"
      ]
     },
     "execution_count": 53,
     "metadata": {},
     "output_type": "execute_result"
    }
   ],
   "source": [
    "a-b"
   ]
  },
  {
   "cell_type": "code",
   "execution_count": 54,
   "id": "b74fc821",
   "metadata": {},
   "outputs": [
    {
     "data": {
      "text/plain": [
       "5100"
      ]
     },
     "execution_count": 54,
     "metadata": {},
     "output_type": "execute_result"
    }
   ],
   "source": [
    "a*b"
   ]
  },
  {
   "cell_type": "code",
   "execution_count": 55,
   "id": "ec4eb74b",
   "metadata": {},
   "outputs": [
    {
     "data": {
      "text/plain": [
       "2.04"
      ]
     },
     "execution_count": 55,
     "metadata": {},
     "output_type": "execute_result"
    }
   ],
   "source": [
    "a/b"
   ]
  },
  {
   "cell_type": "code",
   "execution_count": 56,
   "id": "aaad3cc9",
   "metadata": {},
   "outputs": [
    {
     "data": {
      "text/plain": [
       "2"
      ]
     },
     "execution_count": 56,
     "metadata": {},
     "output_type": "execute_result"
    }
   ],
   "source": [
    "a%b"
   ]
  },
  {
   "cell_type": "code",
   "execution_count": 57,
   "id": "10c15e87",
   "metadata": {},
   "outputs": [
    {
     "data": {
      "text/plain": [
       "26915880290736053938940873551532594852288282764078853774045429663815441085502425126255789921349402624"
      ]
     },
     "execution_count": 57,
     "metadata": {},
     "output_type": "execute_result"
    }
   ],
   "source": [
    "a**b"
   ]
  },
  {
   "cell_type": "code",
   "execution_count": 59,
   "id": "e9bf0619",
   "metadata": {},
   "outputs": [
    {
     "data": {
      "text/plain": [
       "2"
      ]
     },
     "execution_count": 59,
     "metadata": {},
     "output_type": "execute_result"
    }
   ],
   "source": [
    "a//b"
   ]
  },
  {
   "cell_type": "markdown",
   "id": "364972da",
   "metadata": {},
   "source": [
    "# Python assignment operator "
   ]
  },
  {
   "cell_type": "code",
   "execution_count": 60,
   "id": "ab58a9a0",
   "metadata": {},
   "outputs": [],
   "source": [
    "a=5\n",
    "x=a+65"
   ]
  },
  {
   "cell_type": "code",
   "execution_count": 64,
   "id": "9af3e702",
   "metadata": {},
   "outputs": [
    {
     "data": {
      "text/plain": [
       "5"
      ]
     },
     "execution_count": 64,
     "metadata": {},
     "output_type": "execute_result"
    }
   ],
   "source": [
    "a"
   ]
  },
  {
   "cell_type": "code",
   "execution_count": 65,
   "id": "79e17783",
   "metadata": {},
   "outputs": [
    {
     "name": "stdout",
     "output_type": "stream",
     "text": [
      "70\n"
     ]
    }
   ],
   "source": [
    "print(x)"
   ]
  },
  {
   "cell_type": "markdown",
   "id": "4278fb40",
   "metadata": {},
   "source": [
    "# comparision operator "
   ]
  },
  {
   "cell_type": "code",
   "execution_count": 66,
   "id": "361f3c37",
   "metadata": {},
   "outputs": [],
   "source": [
    "a=50\n",
    "b=60"
   ]
  },
  {
   "cell_type": "code",
   "execution_count": 67,
   "id": "dd92d711",
   "metadata": {},
   "outputs": [
    {
     "name": "stdout",
     "output_type": "stream",
     "text": [
      "False\n"
     ]
    }
   ],
   "source": [
    "print(a==b)"
   ]
  },
  {
   "cell_type": "code",
   "execution_count": 68,
   "id": "eb46b4f2",
   "metadata": {},
   "outputs": [
    {
     "name": "stdout",
     "output_type": "stream",
     "text": [
      "True\n"
     ]
    }
   ],
   "source": [
    "print(a!=b)"
   ]
  },
  {
   "cell_type": "code",
   "execution_count": 69,
   "id": "0df5b838",
   "metadata": {},
   "outputs": [
    {
     "name": "stdout",
     "output_type": "stream",
     "text": [
      "True\n"
     ]
    }
   ],
   "source": [
    "print(a<b)"
   ]
  },
  {
   "cell_type": "code",
   "execution_count": 70,
   "id": "a16a5642",
   "metadata": {},
   "outputs": [
    {
     "name": "stdout",
     "output_type": "stream",
     "text": [
      "False\n"
     ]
    }
   ],
   "source": [
    "print(a>b)"
   ]
  },
  {
   "cell_type": "markdown",
   "id": "cefa7f87",
   "metadata": {},
   "source": [
    "# Python Logical Operator "
   ]
  },
  {
   "cell_type": "code",
   "execution_count": 71,
   "id": "a1f398aa",
   "metadata": {},
   "outputs": [],
   "source": [
    "z=20"
   ]
  },
  {
   "cell_type": "code",
   "execution_count": null,
   "id": "1a297eb4",
   "metadata": {},
   "outputs": [],
   "source": [
    "print"
   ]
  },
  {
   "cell_type": "code",
   "execution_count": 48,
   "id": "7718c7d1-677d-42ed-8887-a26470e329e4",
   "metadata": {},
   "outputs": [
    {
     "name": "stdout",
     "output_type": "stream",
     "text": [
      "End of code\n"
     ]
    }
   ],
   "source": [
    "##cONDITIONAL \n",
    "\n",
    "if(light==\"Green\"):\n",
    "    print(\"Go\")\n",
    "elif(light==\"Yellow\"):\n",
    "    print(\"Look\")\n",
    "elif(light==\"Red\"):\n",
    "    print (\"Stop\")\n",
    "print(\"End of code\")"
   ]
  },
  {
   "cell_type": "code",
   "execution_count": 50,
   "id": "6fe65b71-30a8-4e36-86c5-0b1915abca42",
   "metadata": {},
   "outputs": [
    {
     "name": "stdout",
     "output_type": "stream",
     "text": [
      "Green\n"
     ]
    }
   ],
   "source": [
    "light=\"Green\"\n",
    "print(light)"
   ]
  },
  {
   "cell_type": "code",
   "execution_count": 52,
   "id": "062c4d03-bb9b-480a-a89c-61e6f6b628ff",
   "metadata": {},
   "outputs": [
    {
     "name": "stdout",
     "output_type": "stream",
     "text": [
      "Red\n"
     ]
    }
   ],
   "source": [
    "light=\"Red\"\n",
    "print(light)"
   ]
  },
  {
   "cell_type": "code",
   "execution_count": 59,
   "id": "9399f1eb-5085-4deb-b9d2-da91d8590ed7",
   "metadata": {},
   "outputs": [
    {
     "name": "stdout",
     "output_type": "stream",
     "text": [
      "Light is Broken\n"
     ]
    }
   ],
   "source": [
    "if(light==\"Green\"):\n",
    "    print(\"Go\")\n",
    "elif(light==\"Yellow\"):\n",
    "    print(\"Look\")\n",
    "elif(light==\"Red\"):\n",
    "    print (\"Stop\")\n",
    "else:\n",
    "    print(\"Light is Broken\")\n",
    "light=\"Pink\"\n"
   ]
  },
  {
   "cell_type": "code",
   "execution_count": 67,
   "id": "04a1e98a-aca1-45b5-843f-62be77833837",
   "metadata": {},
   "outputs": [
    {
     "name": "stdout",
     "output_type": "stream",
     "text": [
      "Cannot Vote and Drive\n"
     ]
    }
   ],
   "source": [
    "age=17\n",
    "if(age >=18):\n",
    "    print(\"Can Vote and Drive\")\n",
    "else:\n",
    "    print(\"Cannot Vote and Drive\")"
   ]
  }
 ],
 "metadata": {
  "kernelspec": {
   "display_name": "Python 3 (ipykernel)",
   "language": "python",
   "name": "python3"
  },
  "language_info": {
   "codemirror_mode": {
    "name": "ipython",
    "version": 3
   },
   "file_extension": ".py",
   "mimetype": "text/x-python",
   "name": "python",
   "nbconvert_exporter": "python",
   "pygments_lexer": "ipython3",
   "version": "3.12.4"
  }
 },
 "nbformat": 4,
 "nbformat_minor": 5
}

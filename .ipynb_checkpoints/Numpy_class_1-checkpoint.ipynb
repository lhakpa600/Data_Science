{
 "cells": [
  {
   "cell_type": "code",
   "execution_count": 5,
   "id": "fe0e2733-7df2-4e30-9759-fef53fc0ff72",
   "metadata": {},
   "outputs": [],
   "source": [
    "import numpy as np"
   ]
  },
  {
   "cell_type": "code",
   "execution_count": 7,
   "id": "d28cf707-a54f-4e4a-bd16-5dbeef4e4326",
   "metadata": {},
   "outputs": [],
   "source": [
    "arr=np.array([34,45,76,87]) #endi array bancha"
   ]
  },
  {
   "cell_type": "code",
   "execution_count": 11,
   "id": "6e30f327-1965-4ffe-9327-e86158d73c09",
   "metadata": {},
   "outputs": [
    {
     "name": "stdout",
     "output_type": "stream",
     "text": [
      "[34 45 76 87]\n"
     ]
    }
   ],
   "source": [
    "print(arr)"
   ]
  },
  {
   "cell_type": "code",
   "execution_count": null,
   "id": "b547f760-fd9d-4b19-b0d0-bde4b8711441",
   "metadata": {},
   "outputs": [],
   "source": [
    "arr=np.array((34,45,76,87)) #possible in tuple also "
   ]
  },
  {
   "cell_type": "code",
   "execution_count": 13,
   "id": "3f137bd7-8451-4966-ab89-28050d2f3b19",
   "metadata": {},
   "outputs": [
    {
     "name": "stdout",
     "output_type": "stream",
     "text": [
      "[34 45 76 87]\n"
     ]
    }
   ],
   "source": [
    "print(arr)"
   ]
  },
  {
   "cell_type": "code",
   "execution_count": 9,
   "id": "bd67a39c-6660-4099-ad72-0f87625f1a3a",
   "metadata": {},
   "outputs": [
    {
     "data": {
      "text/plain": [
       "'1.26.4'"
      ]
     },
     "execution_count": 9,
     "metadata": {},
     "output_type": "execute_result"
    }
   ],
   "source": [
    "np.__version__"
   ]
  },
  {
   "cell_type": "code",
   "execution_count": 15,
   "id": "8ddaba26-01cf-4847-8d9e-d7a0d18021ac",
   "metadata": {},
   "outputs": [
    {
     "data": {
      "text/plain": [
       "dtype('int64')"
      ]
     },
     "execution_count": 15,
     "metadata": {},
     "output_type": "execute_result"
    }
   ],
   "source": [
    "arr.dtype"
   ]
  },
  {
   "cell_type": "markdown",
   "id": "c1eeafc6-d5b6-44e2-8abc-4a5d69a82d1f",
   "metadata": {},
   "source": [
    "### Dimensions in numpy array"
   ]
  },
  {
   "cell_type": "code",
   "execution_count": 24,
   "id": "28e73b7b-8474-4867-ac60-62924fcdef50",
   "metadata": {},
   "outputs": [],
   "source": [
    "a=np.array(45)\n",
    "b=np.array((45,65))\n",
    "c=np.array(((45,60),(78,90)))\n",
    "d=np.array((((45,60),(78,90)),((40,40),(80,80))))."
   ]
  },
  {
   "cell_type": "code",
   "execution_count": 26,
   "id": "b534ca11-a73b-42de-a7f6-1644ae10a857",
   "metadata": {},
   "outputs": [
    {
     "data": {
      "text/plain": [
       "0"
      ]
     },
     "execution_count": 26,
     "metadata": {},
     "output_type": "execute_result"
    }
   ],
   "source": [
    "a.ndim"
   ]
  },
  {
   "cell_type": "code",
   "execution_count": 28,
   "id": "6c6f2454-0b48-4368-9f53-58cbfb432fc5",
   "metadata": {},
   "outputs": [
    {
     "data": {
      "text/plain": [
       "1"
      ]
     },
     "execution_count": 28,
     "metadata": {},
     "output_type": "execute_result"
    }
   ],
   "source": [
    "b.ndim"
   ]
  },
  {
   "cell_type": "code",
   "execution_count": 30,
   "id": "23d360ad-6c5f-4088-a4c6-eabdc0522df1",
   "metadata": {},
   "outputs": [
    {
     "data": {
      "text/plain": [
       "2"
      ]
     },
     "execution_count": 30,
     "metadata": {},
     "output_type": "execute_result"
    }
   ],
   "source": [
    "c.ndim"
   ]
  },
  {
   "cell_type": "code",
   "execution_count": 32,
   "id": "2e05c659-4833-4d71-9d5d-4a332ff7d261",
   "metadata": {},
   "outputs": [
    {
     "data": {
      "text/plain": [
       "3"
      ]
     },
     "execution_count": 32,
     "metadata": {},
     "output_type": "execute_result"
    }
   ],
   "source": [
    "d.ndim"
   ]
  },
  {
   "cell_type": "code",
   "execution_count": 34,
   "id": "905975b8-6bde-4ac0-9b73-31a267f6e039",
   "metadata": {},
   "outputs": [
    {
     "name": "stdout",
     "output_type": "stream",
     "text": [
      "45\n"
     ]
    }
   ],
   "source": [
    "print(a)"
   ]
  },
  {
   "cell_type": "code",
   "execution_count": 36,
   "id": "7cac38d1-f44e-46ef-9993-f70bcb5417e5",
   "metadata": {},
   "outputs": [
    {
     "name": "stdout",
     "output_type": "stream",
     "text": [
      "[45 65]\n"
     ]
    }
   ],
   "source": [
    "print(b)"
   ]
  },
  {
   "cell_type": "code",
   "execution_count": 38,
   "id": "c078c727-df96-4285-bd86-860fbccab2ec",
   "metadata": {},
   "outputs": [
    {
     "name": "stdout",
     "output_type": "stream",
     "text": [
      "[[45 60]\n",
      " [78 90]]\n"
     ]
    }
   ],
   "source": [
    "print(c)"
   ]
  },
  {
   "cell_type": "code",
   "execution_count": 40,
   "id": "ec0b996e-909c-4b11-8c82-5d5313bc0c73",
   "metadata": {},
   "outputs": [
    {
     "name": "stdout",
     "output_type": "stream",
     "text": [
      "[[[45 60]\n",
      "  [78 90]]\n",
      "\n",
      " [[40 40]\n",
      "  [80 80]]]\n"
     ]
    }
   ],
   "source": [
    "print(d)"
   ]
  },
  {
   "cell_type": "code",
   "execution_count": 42,
   "id": "8a88355d-22d5-4845-b43b-39cfe3f3b346",
   "metadata": {},
   "outputs": [
    {
     "ename": "NameError",
     "evalue": "name 'ndim' is not defined",
     "output_type": "error",
     "traceback": [
      "\u001b[0;31m---------------------------------------------------------------------------\u001b[0m",
      "\u001b[0;31mNameError\u001b[0m                                 Traceback (most recent call last)",
      "Cell \u001b[0;32mIn[42], line 1\u001b[0m\n\u001b[0;32m----> 1\u001b[0m b\u001b[38;5;241m=\u001b[39mnp\u001b[38;5;241m.\u001b[39marray((\u001b[38;5;241m45\u001b[39m,\u001b[38;5;241m65\u001b[39m)),ndim(\u001b[38;5;241m5\u001b[39m)\n",
      "\u001b[0;31mNameError\u001b[0m: name 'ndim' is not defined"
     ]
    }
   ],
   "source": [
    "b=np.array((45,65)),ndim(5)"
   ]
  },
  {
   "cell_type": "code",
   "execution_count": null,
   "id": "2d381388-f2d7-4c14-b773-d4b7069b2a37",
   "metadata": {},
   "outputs": [],
   "source": []
  }
 ],
 "metadata": {
  "kernelspec": {
   "display_name": "Python 3 (ipykernel)",
   "language": "python",
   "name": "python3"
  },
  "language_info": {
   "codemirror_mode": {
    "name": "ipython",
    "version": 3
   },
   "file_extension": ".py",
   "mimetype": "text/x-python",
   "name": "python",
   "nbconvert_exporter": "python",
   "pygments_lexer": "ipython3",
   "version": "3.12.4"
  }
 },
 "nbformat": 4,
 "nbformat_minor": 5
}

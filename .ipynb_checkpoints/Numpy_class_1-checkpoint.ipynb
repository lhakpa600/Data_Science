{
 "cells": [
  {
   "cell_type": "code",
   "execution_count": 3,
   "id": "fe0e2733-7df2-4e30-9759-fef53fc0ff72",
   "metadata": {},
   "outputs": [],
   "source": [
    "import numpy as np"
   ]
  },
  {
   "cell_type": "code",
   "execution_count": 37,
   "id": "d28cf707-a54f-4e4a-bd16-5dbeef4e4326",
   "metadata": {},
   "outputs": [],
   "source": [
    "arr=np.array([34,45,76,87]) #endi array bancha"
   ]
  },
  {
   "cell_type": "code",
   "execution_count": 39,
   "id": "6e30f327-1965-4ffe-9327-e86158d73c09",
   "metadata": {},
   "outputs": [
    {
     "name": "stdout",
     "output_type": "stream",
     "text": [
      "[34 45 76 87]\n"
     ]
    }
   ],
   "source": [
    "print(arr)"
   ]
  },
  {
   "cell_type": "code",
   "execution_count": 41,
   "id": "b547f760-fd9d-4b19-b0d0-bde4b8711441",
   "metadata": {},
   "outputs": [],
   "source": [
    "arr=np.array((34,45,76,87)) #possible in tuple also "
   ]
  },
  {
   "cell_type": "code",
   "execution_count": 43,
   "id": "3f137bd7-8451-4966-ab89-28050d2f3b19",
   "metadata": {},
   "outputs": [
    {
     "name": "stdout",
     "output_type": "stream",
     "text": [
      "[34 45 76 87]\n"
     ]
    }
   ],
   "source": [
    "print(arr)"
   ]
  },
  {
   "cell_type": "code",
   "execution_count": 45,
   "id": "bd67a39c-6660-4099-ad72-0f87625f1a3a",
   "metadata": {},
   "outputs": [
    {
     "data": {
      "text/plain": [
       "'1.26.4'"
      ]
     },
     "execution_count": 45,
     "metadata": {},
     "output_type": "execute_result"
    }
   ],
   "source": [
    "np.__version__"
   ]
  },
  {
   "cell_type": "code",
   "execution_count": 47,
   "id": "8ddaba26-01cf-4847-8d9e-d7a0d18021ac",
   "metadata": {},
   "outputs": [
    {
     "data": {
      "text/plain": [
       "dtype('int64')"
      ]
     },
     "execution_count": 47,
     "metadata": {},
     "output_type": "execute_result"
    }
   ],
   "source": [
    "arr.dtype"
   ]
  },
  {
   "cell_type": "code",
   "execution_count": 49,
   "id": "8192829a-5f00-4d79-8f25-d2eb8697be42",
   "metadata": {},
   "outputs": [
    {
     "data": {
      "text/plain": [
       "242"
      ]
     },
     "execution_count": 49,
     "metadata": {},
     "output_type": "execute_result"
    }
   ],
   "source": [
    "arr.sum()"
   ]
  },
  {
   "cell_type": "code",
   "execution_count": 11,
   "id": "68d15f56-f87e-43dd-8dd9-c237884bcedb",
   "metadata": {},
   "outputs": [
    {
     "name": "stdout",
     "output_type": "stream",
     "text": [
      "[20 30 40]\n",
      "[60 70 80]\n",
      "[ 80 100 120]\n",
      "[1200 2100 3200]\n"
     ]
    }
   ],
   "source": [
    "a=np.array([20,30,40])\n",
    "b=np.array([60,70,80])\n",
    "print(a)\n",
    "print(b)\n",
    "print(a+b)\n",
    "print(a*b)"
   ]
  },
  {
   "cell_type": "code",
   "execution_count": 13,
   "id": "53a14284-b127-4912-82f1-22c5452e8020",
   "metadata": {},
   "outputs": [
    {
     "name": "stdout",
     "output_type": "stream",
     "text": [
      "['20' '30' '40']\n"
     ]
    }
   ],
   "source": [
    "#no multiple data type, result eutai dincha\n",
    "\n",
    "a=np.array([20,30,\"40\"])\n",
    "print(a)     #sab int value huncha\n",
    "\n"
   ]
  },
  {
   "cell_type": "code",
   "execution_count": 17,
   "id": "75d6f537-89fd-4761-bb38-59afe8a97ff7",
   "metadata": {},
   "outputs": [
    {
     "name": "stdout",
     "output_type": "stream",
     "text": [
      "[30.  29.  80.9]\n"
     ]
    }
   ],
   "source": [
    "a=np.array([30,29,80.9])\n",
    "print(a)   #sab value float bhayo"
   ]
  },
  {
   "cell_type": "code",
   "execution_count": 11,
   "id": "4fb83afe-962e-42f0-9020-092df8245b11",
   "metadata": {},
   "outputs": [
    {
     "name": "stdout",
     "output_type": "stream",
     "text": [
      "[20 30 40]\n",
      "[60 70 80]\n",
      "[ 80 100 120]\n",
      "[1200 2100 3200]\n"
     ]
    }
   ],
   "source": [
    "a=np.array([20,30,40])\n",
    "b=np.array([60,70,80])\n",
    "print(a)\n",
    "print(b)\n",
    "print(a+b)\n",
    "print(a*b)"
   ]
  },
  {
   "cell_type": "markdown",
   "id": "c1eeafc6-d5b6-44e2-8abc-4a5d69a82d1f",
   "metadata": {},
   "source": [
    "### Dimensions in numpy array"
   ]
  },
  {
   "cell_type": "code",
   "execution_count": 52,
   "id": "28e73b7b-8474-4867-ac60-62924fcdef50",
   "metadata": {},
   "outputs": [],
   "source": [
    "a=np.array(45)\n",
    "b=np.array((45,65))\n",
    "c=np.array(((45,60),(78,90)))\n",
    "d=np.array((((45,60),(78,90)),((40,40),(80,80))))"
   ]
  },
  {
   "cell_type": "code",
   "execution_count": 54,
   "id": "b534ca11-a73b-42de-a7f6-1644ae10a857",
   "metadata": {},
   "outputs": [
    {
     "data": {
      "text/plain": [
       "0"
      ]
     },
     "execution_count": 54,
     "metadata": {},
     "output_type": "execute_result"
    }
   ],
   "source": [
    "a.ndim"
   ]
  },
  {
   "cell_type": "code",
   "execution_count": 56,
   "id": "6c6f2454-0b48-4368-9f53-58cbfb432fc5",
   "metadata": {},
   "outputs": [
    {
     "data": {
      "text/plain": [
       "1"
      ]
     },
     "execution_count": 56,
     "metadata": {},
     "output_type": "execute_result"
    }
   ],
   "source": [
    "b.ndim"
   ]
  },
  {
   "cell_type": "code",
   "execution_count": 58,
   "id": "23d360ad-6c5f-4088-a4c6-eabdc0522df1",
   "metadata": {},
   "outputs": [
    {
     "data": {
      "text/plain": [
       "2"
      ]
     },
     "execution_count": 58,
     "metadata": {},
     "output_type": "execute_result"
    }
   ],
   "source": [
    "c.ndim"
   ]
  },
  {
   "cell_type": "code",
   "execution_count": 60,
   "id": "2e05c659-4833-4d71-9d5d-4a332ff7d261",
   "metadata": {},
   "outputs": [
    {
     "data": {
      "text/plain": [
       "3"
      ]
     },
     "execution_count": 60,
     "metadata": {},
     "output_type": "execute_result"
    }
   ],
   "source": [
    "d.ndim"
   ]
  },
  {
   "cell_type": "code",
   "execution_count": 62,
   "id": "905975b8-6bde-4ac0-9b73-31a267f6e039",
   "metadata": {},
   "outputs": [
    {
     "name": "stdout",
     "output_type": "stream",
     "text": [
      "45\n"
     ]
    }
   ],
   "source": [
    "print(a)  #single element VECTOR"
   ]
  },
  {
   "cell_type": "code",
   "execution_count": 64,
   "id": "7cac38d1-f44e-46ef-9993-f70bcb5417e5",
   "metadata": {},
   "outputs": [
    {
     "name": "stdout",
     "output_type": "stream",
     "text": [
      "[45 65]\n"
     ]
    }
   ],
   "source": [
    "print(b) #"
   ]
  },
  {
   "cell_type": "code",
   "execution_count": 66,
   "id": "c078c727-df96-4285-bd86-860fbccab2ec",
   "metadata": {},
   "outputs": [
    {
     "name": "stdout",
     "output_type": "stream",
     "text": [
      "[[45 60]\n",
      " [78 90]]\n"
     ]
    }
   ],
   "source": [
    "print(c)"
   ]
  },
  {
   "cell_type": "code",
   "execution_count": 68,
   "id": "ec0b996e-909c-4b11-8c82-5d5313bc0c73",
   "metadata": {},
   "outputs": [
    {
     "name": "stdout",
     "output_type": "stream",
     "text": [
      "[[[45 60]\n",
      "  [78 90]]\n",
      "\n",
      " [[40 40]\n",
      "  [80 80]]]\n"
     ]
    }
   ],
   "source": [
    "print(d)"
   ]
  },
  {
   "cell_type": "code",
   "execution_count": 75,
   "id": "8a88355d-22d5-4845-b43b-39cfe3f3b346",
   "metadata": {},
   "outputs": [
    {
     "ename": "SyntaxError",
     "evalue": "invalid syntax. Maybe you meant '==' or ':=' instead of '='? (3228886709.py, line 1)",
     "output_type": "error",
     "traceback": [
      "\u001b[0;36m  Cell \u001b[0;32mIn[75], line 1\u001b[0;36m\u001b[0m\n\u001b[0;31m    b=np.array((45,65)),(ndims=5)\u001b[0m\n\u001b[0m                         ^\u001b[0m\n\u001b[0;31mSyntaxError\u001b[0m\u001b[0;31m:\u001b[0m invalid syntax. Maybe you meant '==' or ':=' instead of '='?\n"
     ]
    }
   ],
   "source": [
    "b=np.array((45,65)),ndims=5"
   ]
  },
  {
   "cell_type": "markdown",
   "id": "a8b4ae7d-a203-45a7-95ba-67231245f116",
   "metadata": {},
   "source": [
    "## ARRAY Indexin in Numpy"
   ]
  },
  {
   "cell_type": "code",
   "execution_count": 77,
   "id": "7bebafbe-a5fd-42be-a31c-e796c46b9e61",
   "metadata": {},
   "outputs": [
    {
     "data": {
      "text/plain": [
       "65"
      ]
     },
     "execution_count": 77,
     "metadata": {},
     "output_type": "execute_result"
    }
   ],
   "source": [
    "b[1]"
   ]
  },
  {
   "cell_type": "code",
   "execution_count": 79,
   "id": "f3e7ae2a-1961-48ec-b64c-0b4572795cf4",
   "metadata": {},
   "outputs": [
    {
     "data": {
      "text/plain": [
       "array([78, 90])"
      ]
     },
     "execution_count": 79,
     "metadata": {},
     "output_type": "execute_result"
    }
   ],
   "source": [
    "c[1]"
   ]
  },
  {
   "cell_type": "code",
   "execution_count": 81,
   "id": "3b612d66-fe1d-44fe-914d-94c3913ad175",
   "metadata": {},
   "outputs": [
    {
     "data": {
      "text/plain": [
       "60"
      ]
     },
     "execution_count": 81,
     "metadata": {},
     "output_type": "execute_result"
    }
   ],
   "source": [
    "c[0][1]"
   ]
  },
  {
   "cell_type": "code",
   "execution_count": 83,
   "id": "a311fdb1-5747-41c7-936d-022913e32c1a",
   "metadata": {},
   "outputs": [
    {
     "data": {
      "text/plain": [
       "array([[40, 40],\n",
       "       [80, 80]])"
      ]
     },
     "execution_count": 83,
     "metadata": {},
     "output_type": "execute_result"
    }
   ],
   "source": [
    "d[1]"
   ]
  },
  {
   "cell_type": "code",
   "execution_count": 85,
   "id": "3021d655-b8cc-4fd1-b51f-c81ab1ad4aa7",
   "metadata": {},
   "outputs": [
    {
     "data": {
      "text/plain": [
       "array([80, 80])"
      ]
     },
     "execution_count": 85,
     "metadata": {},
     "output_type": "execute_result"
    }
   ],
   "source": [
    "d[1][1]"
   ]
  },
  {
   "cell_type": "code",
   "execution_count": 87,
   "id": "953fbf59-60b6-44de-85ff-85f07fb9314f",
   "metadata": {},
   "outputs": [
    {
     "data": {
      "text/plain": [
       "80"
      ]
     },
     "execution_count": 87,
     "metadata": {},
     "output_type": "execute_result"
    }
   ],
   "source": [
    "d[1][1][1]"
   ]
  },
  {
   "cell_type": "code",
   "execution_count": 89,
   "id": "c1451d70-2b46-4db3-94ab-6c489791fb4f",
   "metadata": {},
   "outputs": [],
   "source": [
    "z=np.array([34,19,34,45,40,89,133])"
   ]
  },
  {
   "cell_type": "code",
   "execution_count": 93,
   "id": "25c03888-e2ca-45be-be1b-89c75e5b0af1",
   "metadata": {},
   "outputs": [
    {
     "data": {
      "text/plain": [
       "19"
      ]
     },
     "execution_count": 93,
     "metadata": {},
     "output_type": "execute_result"
    }
   ],
   "source": [
    "z[1]"
   ]
  },
  {
   "cell_type": "code",
   "execution_count": 95,
   "id": "0cc8611b-7e48-4b65-8189-3068019f7a2a",
   "metadata": {},
   "outputs": [],
   "source": [
    "z=np.array(([34,19,34,45,40,89,133],[26,18,82,90,34,189,78]))"
   ]
  },
  {
   "cell_type": "code",
   "execution_count": 97,
   "id": "c5f9781f-2592-43bd-87e4-ad78a4642195",
   "metadata": {},
   "outputs": [
    {
     "data": {
      "text/plain": [
       "19"
      ]
     },
     "execution_count": 97,
     "metadata": {},
     "output_type": "execute_result"
    }
   ],
   "source": [
    "z[0][1]"
   ]
  },
  {
   "cell_type": "code",
   "execution_count": 99,
   "id": "63e44426-d366-4a6d-9367-80f65c75be1b",
   "metadata": {},
   "outputs": [
    {
     "data": {
      "text/plain": [
       "array([[ 26,  18,  82,  90,  34, 189,  78]])"
      ]
     },
     "execution_count": 99,
     "metadata": {},
     "output_type": "execute_result"
    }
   ],
   "source": [
    "z[1:6]"
   ]
  },
  {
   "cell_type": "code",
   "execution_count": 101,
   "id": "f0f32c05-af8e-4455-81e2-4a39090e3765",
   "metadata": {},
   "outputs": [
    {
     "data": {
      "text/plain": [
       "90"
      ]
     },
     "execution_count": 101,
     "metadata": {},
     "output_type": "execute_result"
    }
   ],
   "source": [
    "z[1,3]"
   ]
  },
  {
   "cell_type": "code",
   "execution_count": 103,
   "id": "8499b069-5e8a-480d-85cb-977d06bc63a0",
   "metadata": {},
   "outputs": [
    {
     "data": {
      "text/plain": [
       "34"
      ]
     },
     "execution_count": 103,
     "metadata": {},
     "output_type": "execute_result"
    }
   ],
   "source": [
    "z[1,-3]"
   ]
  },
  {
   "cell_type": "code",
   "execution_count": 105,
   "id": "55295cb6-13e9-436c-9253-fbd23f22a723",
   "metadata": {},
   "outputs": [
    {
     "data": {
      "text/plain": [
       "19"
      ]
     },
     "execution_count": 105,
     "metadata": {},
     "output_type": "execute_result"
    }
   ],
   "source": [
    "z[0,-6]"
   ]
  },
  {
   "cell_type": "code",
   "execution_count": 107,
   "id": "a12668cc-335b-4321-9ffb-7ed384342e16",
   "metadata": {},
   "outputs": [
    {
     "data": {
      "text/plain": [
       "array([19, 34])"
      ]
     },
     "execution_count": 107,
     "metadata": {},
     "output_type": "execute_result"
    }
   ],
   "source": [
    "z[0,1:3]"
   ]
  },
  {
   "cell_type": "code",
   "execution_count": 109,
   "id": "2d36772f-e359-4e8c-9758-66b68d49e2e2",
   "metadata": {},
   "outputs": [],
   "source": [
    "y=np.array([34,19,34,45,40,89,133])"
   ]
  },
  {
   "cell_type": "code",
   "execution_count": 111,
   "id": "0797909a-3734-4fd5-a022-364184ddc65e",
   "metadata": {},
   "outputs": [
    {
     "data": {
      "text/plain": [
       "array([ 34,  19,  34,  45,  40,  89, 133])"
      ]
     },
     "execution_count": 111,
     "metadata": {},
     "output_type": "execute_result"
    }
   ],
   "source": [
    "y"
   ]
  },
  {
   "cell_type": "code",
   "execution_count": 113,
   "id": "cdfbd02e-c1b6-4a97-aa90-9f18e7c0351a",
   "metadata": {},
   "outputs": [
    {
     "data": {
      "text/plain": [
       "34"
      ]
     },
     "execution_count": 113,
     "metadata": {},
     "output_type": "execute_result"
    }
   ],
   "source": [
    "y[0]"
   ]
  },
  {
   "cell_type": "code",
   "execution_count": 115,
   "id": "2a344581-f6bf-4554-ab11-9368e2027c3f",
   "metadata": {},
   "outputs": [
    {
     "data": {
      "text/plain": [
       "133"
      ]
     },
     "execution_count": 115,
     "metadata": {},
     "output_type": "execute_result"
    }
   ],
   "source": [
    "y[6]"
   ]
  },
  {
   "cell_type": "code",
   "execution_count": 117,
   "id": "52232352-e22a-4f3f-897e-a75045c20cbf",
   "metadata": {},
   "outputs": [
    {
     "data": {
      "text/plain": [
       "array([19, 34, 45, 40])"
      ]
     },
     "execution_count": 117,
     "metadata": {},
     "output_type": "execute_result"
    }
   ],
   "source": [
    "y[1:5]"
   ]
  },
  {
   "cell_type": "code",
   "execution_count": 121,
   "id": "3298dd64-a3a5-4214-936d-f50a24ae2c61",
   "metadata": {},
   "outputs": [
    {
     "data": {
      "text/plain": [
       "array([19, 45, 89])"
      ]
     },
     "execution_count": 121,
     "metadata": {},
     "output_type": "execute_result"
    }
   ],
   "source": [
    "y[1:6:2] #2gapSkip"
   ]
  },
  {
   "cell_type": "code",
   "execution_count": 125,
   "id": "a0f1b98e-0c3f-4cf2-8a21-7311d82f54de",
   "metadata": {},
   "outputs": [
    {
     "data": {
      "text/plain": [
       "array([19, 40])"
      ]
     },
     "execution_count": 125,
     "metadata": {},
     "output_type": "execute_result"
    }
   ],
   "source": [
    "y[1:6:3]"
   ]
  },
  {
   "cell_type": "markdown",
   "id": "cf5e6bba-089a-4627-a206-43758fe1a3ea",
   "metadata": {},
   "source": [
    "## Data Types Numpy"
   ]
  },
  {
   "cell_type": "code",
   "execution_count": 41,
   "id": "1674f0b8-7e47-460a-9647-0b9843521779",
   "metadata": {},
   "outputs": [],
   "source": [
    "x=np.array([41.6,45.8,6,70,89,98.5,97])"
   ]
  },
  {
   "cell_type": "code",
   "execution_count": 43,
   "id": "6ef52e63-d4db-41dd-9315-aad0ee34f3ca",
   "metadata": {},
   "outputs": [
    {
     "data": {
      "text/plain": [
       "dtype('float64')"
      ]
     },
     "execution_count": 43,
     "metadata": {},
     "output_type": "execute_result"
    }
   ],
   "source": [
    "x.dtype"
   ]
  },
  {
   "cell_type": "code",
   "execution_count": 45,
   "id": "74603093-3242-4b71-a7cb-0a711f97690a",
   "metadata": {},
   "outputs": [],
   "source": [
    "import numpy as np"
   ]
  },
  {
   "cell_type": "code",
   "execution_count": 47,
   "id": "3b89a439-dc92-4202-84f2-0c73b7d56ea3",
   "metadata": {},
   "outputs": [],
   "source": [
    "u=np.array([1+2j,5+3j,6+4j])"
   ]
  },
  {
   "cell_type": "code",
   "execution_count": 49,
   "id": "9f39ecfd-598d-4124-9dd8-74d6c7826b8c",
   "metadata": {},
   "outputs": [
    {
     "data": {
      "text/plain": [
       "array([1.+2.j, 5.+3.j, 6.+4.j])"
      ]
     },
     "execution_count": 49,
     "metadata": {},
     "output_type": "execute_result"
    }
   ],
   "source": [
    "u"
   ]
  },
  {
   "cell_type": "code",
   "execution_count": 51,
   "id": "0d45d81d-6b73-4eb4-8eb4-0cc4652f41ff",
   "metadata": {},
   "outputs": [
    {
     "data": {
      "text/plain": [
       "dtype('complex128')"
      ]
     },
     "execution_count": 51,
     "metadata": {},
     "output_type": "execute_result"
    }
   ],
   "source": [
    "u.dtype"
   ]
  },
  {
   "cell_type": "code",
   "execution_count": 53,
   "id": "2997a99f-7c6b-416b-bf12-833d313ec3c3",
   "metadata": {},
   "outputs": [],
   "source": [
    "u=np.array([1+2j,5+3j,6+4j],dtype=\"complex\")"
   ]
  },
  {
   "cell_type": "code",
   "execution_count": 55,
   "id": "a8fbad02-6f28-476d-9e94-3eedbbe3d04e",
   "metadata": {},
   "outputs": [
    {
     "data": {
      "text/plain": [
       "dtype('complex128')"
      ]
     },
     "execution_count": 55,
     "metadata": {},
     "output_type": "execute_result"
    }
   ],
   "source": [
    "u.dtype"
   ]
  },
  {
   "cell_type": "code",
   "execution_count": 57,
   "id": "24732ca6-3468-4c27-b294-6acd6b49f402",
   "metadata": {},
   "outputs": [],
   "source": [
    "k=np.array([1+2j,5+3j,6+4j],dtype=\"S\")"
   ]
  },
  {
   "cell_type": "code",
   "execution_count": 59,
   "id": "6a03173c-4871-4c0c-bd92-b288666742ee",
   "metadata": {},
   "outputs": [
    {
     "data": {
      "text/plain": [
       "dtype('S6')"
      ]
     },
     "execution_count": 59,
     "metadata": {},
     "output_type": "execute_result"
    }
   ],
   "source": [
    "k.dtype"
   ]
  },
  {
   "cell_type": "code",
   "execution_count": 61,
   "id": "437c8bb7-b6f5-46a0-aefd-195e7d138946",
   "metadata": {},
   "outputs": [
    {
     "data": {
      "text/plain": [
       "array([b'(1+2j)', b'(5+3j)', b'(6+4j)'], dtype='|S6')"
      ]
     },
     "execution_count": 61,
     "metadata": {},
     "output_type": "execute_result"
    }
   ],
   "source": [
    "k"
   ]
  },
  {
   "cell_type": "code",
   "execution_count": 63,
   "id": "2b0d13d8-20de-4bea-aca1-ee5e0dee22c8",
   "metadata": {},
   "outputs": [
    {
     "data": {
      "text/plain": [
       "<function ndarray.sum>"
      ]
     },
     "execution_count": 63,
     "metadata": {},
     "output_type": "execute_result"
    }
   ],
   "source": [
    "k.sum"
   ]
  },
  {
   "cell_type": "code",
   "execution_count": 65,
   "id": "5180ed7f-4478-4ac4-82fa-e9f5f53e1837",
   "metadata": {},
   "outputs": [
    {
     "name": "stdout",
     "output_type": "stream",
     "text": [
      "<built-in method sum of numpy.ndarray object at 0x1248abcf0>\n"
     ]
    }
   ],
   "source": [
    "print(k.sum)"
   ]
  },
  {
   "cell_type": "markdown",
   "id": "8909169b-50aa-4a01-84b3-839137b1dbf0",
   "metadata": {},
   "source": [
    "## Copy"
   ]
  },
  {
   "cell_type": "code",
   "execution_count": 68,
   "id": "67b51af2-d3f6-4fae-b7b4-25e01d676ec5",
   "metadata": {},
   "outputs": [],
   "source": [
    "te=x.copy()"
   ]
  },
  {
   "cell_type": "code",
   "execution_count": 70,
   "id": "550970a6-b7b7-4276-ae4b-90a6a2ac7649",
   "metadata": {},
   "outputs": [
    {
     "data": {
      "text/plain": [
       "array([41.6, 45.8,  6. , 70. , 89. , 98.5, 97. ])"
      ]
     },
     "execution_count": 70,
     "metadata": {},
     "output_type": "execute_result"
    }
   ],
   "source": [
    "te"
   ]
  },
  {
   "cell_type": "code",
   "execution_count": 76,
   "id": "0afb7680-c39e-4da6-88b3-c3036b8500ab",
   "metadata": {},
   "outputs": [],
   "source": [
    "te[3]=56 #value change "
   ]
  },
  {
   "cell_type": "code",
   "execution_count": 78,
   "id": "97e78947-a114-40a1-bbce-31911e440422",
   "metadata": {},
   "outputs": [
    {
     "data": {
      "text/plain": [
       "array([41.6, 45.8,  6. , 56. , 89. , 98.5, 97. ])"
      ]
     },
     "execution_count": 78,
     "metadata": {},
     "output_type": "execute_result"
    }
   ],
   "source": [
    "te"
   ]
  },
  {
   "cell_type": "code",
   "execution_count": 74,
   "id": "470f2f8e-ef50-4123-95f0-3ff0401c24dd",
   "metadata": {},
   "outputs": [
    {
     "data": {
      "text/plain": [
       "array([41.6, 45.8,  6. , 70. , 89. , 98.5, 97. ])"
      ]
     },
     "execution_count": 74,
     "metadata": {},
     "output_type": "execute_result"
    }
   ],
   "source": [
    "x"
   ]
  },
  {
   "cell_type": "code",
   "execution_count": 80,
   "id": "15d8e608-9e2d-4318-a368-0b517b0487bf",
   "metadata": {},
   "outputs": [],
   "source": [
    "cd=x.view()"
   ]
  },
  {
   "cell_type": "code",
   "execution_count": 82,
   "id": "e5ddadae-95fc-480f-be1c-7f8f18f4d83b",
   "metadata": {},
   "outputs": [
    {
     "data": {
      "text/plain": [
       "array([41.6, 45.8,  6. , 70. , 89. , 98.5, 97. ])"
      ]
     },
     "execution_count": 82,
     "metadata": {},
     "output_type": "execute_result"
    }
   ],
   "source": [
    "cd"
   ]
  },
  {
   "cell_type": "code",
   "execution_count": 84,
   "id": "b8d61131-3b9f-4eb1-9fbc-474c00ae43aa",
   "metadata": {},
   "outputs": [
    {
     "data": {
      "text/plain": [
       "array([41.6, 45.8,  6. , 70. , 89. , 98.5, 97. ])"
      ]
     },
     "execution_count": 84,
     "metadata": {},
     "output_type": "execute_result"
    }
   ],
   "source": [
    "x"
   ]
  },
  {
   "cell_type": "code",
   "execution_count": 90,
   "id": "c4051259-c2ea-441e-aa5f-e15caa0e1e99",
   "metadata": {},
   "outputs": [],
   "source": [
    "cd[0]=20"
   ]
  },
  {
   "cell_type": "code",
   "execution_count": 92,
   "id": "73197950-1cc8-48a6-bcb7-9f1fffc8e3a0",
   "metadata": {},
   "outputs": [
    {
     "data": {
      "text/plain": [
       "array([20. , 45.8,  6. , 70. , 89. , 98.5, 97. ])"
      ]
     },
     "execution_count": 92,
     "metadata": {},
     "output_type": "execute_result"
    }
   ],
   "source": [
    "cd"
   ]
  },
  {
   "cell_type": "code",
   "execution_count": 94,
   "id": "770371ce-52e7-4a26-b012-c5ed7beceba6",
   "metadata": {},
   "outputs": [
    {
     "data": {
      "text/plain": [
       "array([20. , 45.8,  6. , 70. , 89. , 98.5, 97. ])"
      ]
     },
     "execution_count": 94,
     "metadata": {},
     "output_type": "execute_result"
    }
   ],
   "source": [
    "x"
   ]
  },
  {
   "cell_type": "markdown",
   "id": "bf8b6e37-a07f-49de-98a3-3e8884f45e9b",
   "metadata": {},
   "source": [
    "## Shape"
   ]
  },
  {
   "cell_type": "code",
   "execution_count": 99,
   "id": "eecaf314-6671-4557-b500-3adfe2667716",
   "metadata": {},
   "outputs": [
    {
     "data": {
      "text/plain": [
       "(7,)"
      ]
     },
     "execution_count": 99,
     "metadata": {},
     "output_type": "execute_result"
    }
   ],
   "source": [
    "x.shape"
   ]
  },
  {
   "cell_type": "code",
   "execution_count": 45,
   "id": "cd275ebc-69e6-492d-9524-09ceb00daf8e",
   "metadata": {},
   "outputs": [],
   "source": [
    "z=np.array(([34,19,34,45,40,89,133],[26,18,82,90,34,189,78]))"
   ]
  },
  {
   "cell_type": "code",
   "execution_count": 47,
   "id": "7682adec-11e4-4561-8b26-d2183fcb5cbc",
   "metadata": {},
   "outputs": [
    {
     "data": {
      "text/plain": [
       "(2, 7)"
      ]
     },
     "execution_count": 47,
     "metadata": {},
     "output_type": "execute_result"
    }
   ],
   "source": [
    "z.shape #row and columns "
   ]
  },
  {
   "cell_type": "code",
   "execution_count": 49,
   "id": "627032f3-9787-404e-af97-192748a380bd",
   "metadata": {},
   "outputs": [
    {
     "name": "stdout",
     "output_type": "stream",
     "text": [
      "14\n"
     ]
    }
   ],
   "source": [
    "print(np.size(z)) #total elements"
   ]
  },
  {
   "cell_type": "code",
   "execution_count": 51,
   "id": "f4314f77-1d81-4d9c-9dde-361938f05ca8",
   "metadata": {},
   "outputs": [
    {
     "name": "stdout",
     "output_type": "stream",
     "text": [
      "2\n"
     ]
    }
   ],
   "source": [
    "print(np.ndim(z)) #no of dimensions"
   ]
  },
  {
   "cell_type": "code",
   "execution_count": 119,
   "id": "0b6319cb-1dc3-4543-a134-60201760c421",
   "metadata": {},
   "outputs": [
    {
     "name": "stdout",
     "output_type": "stream",
     "text": [
      "[[ 34  19  34  45  40  89 133]\n",
      " [ 26  18  82  90  34 189  78]]\n"
     ]
    }
   ],
   "source": [
    "print(z)"
   ]
  },
  {
   "cell_type": "code",
   "execution_count": 126,
   "id": "a48bef4f-8b1b-4d24-b3de-124198b477ab",
   "metadata": {},
   "outputs": [
    {
     "data": {
      "text/plain": [
       "array([[ 34,  19,  34,  45,  40,  89, 133],\n",
       "       [ 26,  18,  82,  90,  34, 189,  78]])"
      ]
     },
     "execution_count": 126,
     "metadata": {},
     "output_type": "execute_result"
    }
   ],
   "source": [
    "z.reshape(2,7)"
   ]
  },
  {
   "cell_type": "code",
   "execution_count": 55,
   "id": "52356130-3ffe-4463-b24c-ffc56b7eedca",
   "metadata": {},
   "outputs": [
    {
     "name": "stdout",
     "output_type": "stream",
     "text": [
      "int64\n"
     ]
    }
   ],
   "source": [
    "print(z.dtype) #which data type?"
   ]
  },
  {
   "cell_type": "markdown",
   "id": "8b7f435b-fd7a-461b-a89d-ac79816a3adb",
   "metadata": {},
   "source": [
    "## Slicing"
   ]
  },
  {
   "cell_type": "code",
   "execution_count": 21,
   "id": "0cc8f264-89da-4d95-ba24-5075832084a1",
   "metadata": {},
   "outputs": [],
   "source": [
    "arr=np.array([10,20,30,40])\n"
   ]
  },
  {
   "cell_type": "code",
   "execution_count": 23,
   "id": "09075c8f-aa39-469c-8dd6-d5babdd5edaf",
   "metadata": {},
   "outputs": [
    {
     "name": "stdout",
     "output_type": "stream",
     "text": [
      "[10 20 30]\n"
     ]
    }
   ],
   "source": [
    "print(arr[0:3])"
   ]
  },
  {
   "cell_type": "code",
   "execution_count": 27,
   "id": "3b429768-c3cf-454b-9d41-c0472c7bf3bc",
   "metadata": {},
   "outputs": [
    {
     "name": "stdout",
     "output_type": "stream",
     "text": [
      "[30 40]\n"
     ]
    }
   ],
   "source": [
    "print(arr[2:5])"
   ]
  },
  {
   "cell_type": "code",
   "execution_count": 37,
   "id": "858e2c4d-2039-46cf-bb8d-6668e89735de",
   "metadata": {},
   "outputs": [],
   "source": [
    "arr=np.array([[10,20,30,40],[90,38,29,49]])"
   ]
  },
  {
   "cell_type": "code",
   "execution_count": 39,
   "id": "5fc0e887-ed82-4d2d-899b-982f043b2a79",
   "metadata": {},
   "outputs": [
    {
     "name": "stdout",
     "output_type": "stream",
     "text": [
      "[[10 20 30 40]\n",
      " [90 38 29 49]]\n"
     ]
    }
   ],
   "source": [
    "print(arr[0:4,0:4])"
   ]
  },
  {
   "cell_type": "code",
   "execution_count": 41,
   "id": "0db0ae8a-69c7-411d-b959-e1f71f1e6247",
   "metadata": {},
   "outputs": [
    {
     "name": "stdout",
     "output_type": "stream",
     "text": [
      "[29 49]\n"
     ]
    }
   ],
   "source": [
    "print(arr[1,2:4])"
   ]
  },
  {
   "cell_type": "markdown",
   "id": "ef482413-2319-4ee9-a32e-8e64f16b0bce",
   "metadata": {},
   "source": [
    "## Inspecting an array"
   ]
  },
  {
   "cell_type": "code",
   "execution_count": 66,
   "id": "7b1ff347-eb64-4568-99e8-dbe314f9789a",
   "metadata": {},
   "outputs": [],
   "source": [
    "import numpy as np\n",
    "\n",
    "a=([[10,20,30,40],[50,60,70,80]])\n",
    "arr=np.array(a)"
   ]
  },
  {
   "cell_type": "code",
   "execution_count": 80,
   "id": "b620eca0-5d66-4717-83da-016a7b7c22d8",
   "metadata": {},
   "outputs": [
    {
     "name": "stdout",
     "output_type": "stream",
     "text": [
      "[[10 20 30 40]\n",
      " [50 60 70 80]]\n",
      "2\n",
      "(2, 4)\n",
      "8\n",
      "int64\n",
      "<class 'numpy.ndarray'>\n",
      "2\n",
      "[[10. 20. 30. 40.]\n",
      " [50. 60. 70. 80.]]\n"
     ]
    }
   ],
   "source": [
    "print(arr)\n",
    "print(len(arr))\n",
    "print(arr.shape)\n",
    "print(arr.size)\n",
    "print(arr.dtype)\n",
    "print(type(arr))\n",
    "print(arr.ndim)\n",
    "print(arr.astype(float))"
   ]
  },
  {
   "cell_type": "markdown",
   "id": "1506f7ec-932e-4c78-b52a-0d2dd25cdc84",
   "metadata": {},
   "source": [
    "## Mathematical operations and Functions on array"
   ]
  },
  {
   "cell_type": "code",
   "execution_count": 85,
   "id": "6113c0cc-05e5-40ca-8f68-be9be0af71ff",
   "metadata": {},
   "outputs": [],
   "source": [
    "import numpy as np\n",
    "\n",
    "arr1=np.array([10,20,30,40])\n",
    "arr2=np.array([50,60,70,80])"
   ]
  },
  {
   "cell_type": "code",
   "execution_count": 95,
   "id": "2386b6b5-9cab-42cb-b67f-3d04d1c09297",
   "metadata": {},
   "outputs": [
    {
     "name": "stdout",
     "output_type": "stream",
     "text": [
      "[-40 -40 -40 -40]\n",
      "[ 60  80 100 120]\n",
      "[ 60  80 100 120]\n"
     ]
    }
   ],
   "source": [
    "print(arr1-arr2)\n",
    "print(arr1+arr2)\n",
    "print(np.add(arr1,arr2))"
   ]
  },
  {
   "cell_type": "code",
   "execution_count": 99,
   "id": "e0ead4bb-9df3-4a9e-82d8-38e7b3fdb627",
   "metadata": {},
   "outputs": [],
   "source": [
    "arr1=np.array(([10,20],[30,40]))\n",
    "arr2=np.array(([50,60],[70,80]))"
   ]
  },
  {
   "cell_type": "code",
   "execution_count": 101,
   "id": "38ac106d-38ae-40e7-9b1d-0343232bc7ba",
   "metadata": {},
   "outputs": [
    {
     "name": "stdout",
     "output_type": "stream",
     "text": [
      "[[ 60  80]\n",
      " [100 120]]\n"
     ]
    }
   ],
   "source": [
    "print(np.add(arr1,arr2))"
   ]
  },
  {
   "cell_type": "code",
   "execution_count": 109,
   "id": "7ffc4871-47f1-476a-b388-81fdea7d5d82",
   "metadata": {},
   "outputs": [
    {
     "name": "stdout",
     "output_type": "stream",
     "text": [
      "[[0.2        0.33333333]\n",
      " [0.42857143 0.5       ]]\n",
      "[[0.2        0.33333333]\n",
      " [0.42857143 0.5       ]]\n"
     ]
    }
   ],
   "source": [
    "print(arr1/arr2)      \n",
    "\n",
    "print(np.divide(arr1,arr2)) #same output "
   ]
  },
  {
   "cell_type": "code",
   "execution_count": 118,
   "id": "5dae38cd-a6a5-494b-8d32-19ee53887dd1",
   "metadata": {},
   "outputs": [
    {
     "name": "stdout",
     "output_type": "stream",
     "text": [
      "[ 100  400  900 1600]\n"
     ]
    }
   ],
   "source": [
    "arr1=np.array([10,20,30,40])\n",
    "arr2=np.array([2])\n",
    "print(np.power(arr1,arr2))"
   ]
  },
  {
   "cell_type": "code",
   "execution_count": 128,
   "id": "9d9d49b1-a140-4ad0-a091-a0fb4034a712",
   "metadata": {},
   "outputs": [
    {
     "name": "stdout",
     "output_type": "stream",
     "text": [
      "[   100000   3200000  24300000 102400000]\n"
     ]
    }
   ],
   "source": [
    "arr1=np.array([10,20,30,40])\n",
    "arr2=np.array([5])\n",
    "print(np.power(arr1,arr2))"
   ]
  },
  {
   "cell_type": "code",
   "execution_count": 132,
   "id": "a1c773b6-a509-4eb8-a7db-4457057ce0cd",
   "metadata": {},
   "outputs": [
    {
     "name": "stdout",
     "output_type": "stream",
     "text": [
      "[2.20264658e+04 4.85165195e+08 1.06864746e+13 2.35385267e+17]\n"
     ]
    }
   ],
   "source": [
    "arr1=np.array([10,20,30,40])\n",
    "print(np.exp(arr1))"
   ]
  },
  {
   "cell_type": "code",
   "execution_count": 138,
   "id": "2ded56cb-852d-4b6f-9fa1-927a6fb84f7f",
   "metadata": {},
   "outputs": [
    {
     "name": "stdout",
     "output_type": "stream",
     "text": [
      "[3.16227766 4.47213595 5.47722558 6.32455532]\n"
     ]
    }
   ],
   "source": [
    "print(np.sqrt(arr1))"
   ]
  },
  {
   "cell_type": "markdown",
   "id": "9e7b185f-ac65-4772-9891-73704cda349f",
   "metadata": {},
   "source": [
    "## Combining and Splitting arrays"
   ]
  },
  {
   "cell_type": "code",
   "execution_count": 147,
   "id": "19c95aaf-0882-4769-9685-0f75c52de735",
   "metadata": {},
   "outputs": [
    {
     "name": "stdout",
     "output_type": "stream",
     "text": [
      "[10, 20, 30, 40, 50, 60, 70, 80]\n"
     ]
    }
   ],
   "source": [
    "#yo value ko result list ma\",\" huncha \n",
    "#example\n",
    "\n",
    "arr1=([10,20,30,40])\n",
    "arr2=([50,60,70,80])\n",
    "print(arr1+arr2)"
   ]
  },
  {
   "cell_type": "code",
   "execution_count": 143,
   "id": "d27257f8-319d-42d8-b8c5-63bda4b76d49",
   "metadata": {},
   "outputs": [
    {
     "name": "stdout",
     "output_type": "stream",
     "text": [
      "[10 20 30 40 50 60 70 80]\n"
     ]
    }
   ],
   "source": [
    "#Concatenate #yo gare chai array ma huncha result (No{,} in between nums)\n",
    "\n",
    "import numpy as np\n",
    "\n",
    "arr1=np.array([10,20,30,40])\n",
    "arr2=np.array([50,60,70,80])\n",
    "\n",
    "print(np.concatenate([arr1,arr2]))"
   ]
  },
  {
   "cell_type": "code",
   "execution_count": 177,
   "id": "e3f7b36a-f8c8-4df8-83f2-f393a78ab4b5",
   "metadata": {},
   "outputs": [
    {
     "name": "stdout",
     "output_type": "stream",
     "text": [
      "[[10 20]\n",
      " [30 40]\n",
      " [50 60]\n",
      " [70 80]]\n"
     ]
    }
   ],
   "source": [
    "arr1=np.array(([10,20],[30,40]))\n",
    "arr2=np.array(([50,60],[70,80]))\n",
    "\n",
    "print(np.concatenate([arr1,arr2]))"
   ]
  },
  {
   "cell_type": "code",
   "execution_count": 167,
   "id": "8e7be844-6b23-4b06-a909-aa933af4d4ce",
   "metadata": {},
   "outputs": [],
   "source": [
    "#ACCESS #alwyas two dimesnsions Row and column\n",
    "\n",
    "arr1=np.array([10,20,30,40])\n",
    "arr2=np.array([50,60,70,80])"
   ]
  },
  {
   "cell_type": "code",
   "execution_count": 169,
   "id": "776a12a6-2689-466e-818e-27b35c4bb866",
   "metadata": {},
   "outputs": [
    {
     "name": "stdout",
     "output_type": "stream",
     "text": [
      "[10 20 30 40 50 60 70 80]\n"
     ]
    }
   ],
   "source": [
    "print(np.concatenate([arr1,arr2], axis=0))  #same horizontal line"
   ]
  },
  {
   "cell_type": "code",
   "execution_count": 171,
   "id": "10c2f725-b300-495a-a488-7f5d8bf97baf",
   "metadata": {},
   "outputs": [],
   "source": [
    "arr1=np.array(([10,20],[30,40]))\n",
    "arr2=np.array(([50,60],[70,80]))\n"
   ]
  },
  {
   "cell_type": "code",
   "execution_count": 175,
   "id": "18c3e8bc-2fdc-454c-b79b-17ad577b66d5",
   "metadata": {},
   "outputs": [
    {
     "name": "stdout",
     "output_type": "stream",
     "text": [
      "[[10 20 50 60]\n",
      " [30 40 70 80]]\n"
     ]
    }
   ],
   "source": [
    "print(np.concatenate([arr1,arr2], axis=1))"
   ]
  },
  {
   "cell_type": "code",
   "execution_count": 185,
   "id": "24801c5d-5321-47cf-83ab-839edcca0715",
   "metadata": {},
   "outputs": [
    {
     "name": "stdout",
     "output_type": "stream",
     "text": [
      "[[10 20 50 60]\n",
      " [30 40 70 80]]\n"
     ]
    }
   ],
   "source": [
    "#another way of concatenate\n",
    "print(np.hstack([arr1,arr2]))  #for horizontal concatenate\n"
   ]
  },
  {
   "cell_type": "code",
   "execution_count": 189,
   "id": "f98457ea-290b-4937-a24e-b4ab55feedd1",
   "metadata": {},
   "outputs": [
    {
     "name": "stdout",
     "output_type": "stream",
     "text": [
      "[[10 20]\n",
      " [30 40]\n",
      " [50 60]\n",
      " [70 80]]\n"
     ]
    }
   ],
   "source": [
    "print(np.vstack([arr1,arr2])) #for vertical concatenation \n"
   ]
  },
  {
   "cell_type": "markdown",
   "id": "a3c6d558-8b0b-4f41-b952-1cda6d1f2c5f",
   "metadata": {},
   "source": [
    "## Split"
   ]
  },
  {
   "cell_type": "code",
   "execution_count": 192,
   "id": "8cdb6cc3-16dc-420c-b121-c194135f0dfa",
   "metadata": {},
   "outputs": [],
   "source": [
    "a=np.array([2,3,4,5,6,7])"
   ]
  },
  {
   "cell_type": "code",
   "execution_count": 224,
   "id": "a4c2e6f4-c7a6-4b52-9c53-ddee3d11f751",
   "metadata": {},
   "outputs": [
    {
     "name": "stdout",
     "output_type": "stream",
     "text": [
      "[array([2, 3]), array([4, 5]), array([6, 7])]\n"
     ]
    }
   ],
   "source": [
    "print(np.array_split(a,3))   #a ko 3 part ma split"
   ]
  },
  {
   "cell_type": "code",
   "execution_count": 218,
   "id": "de7c1caf-4303-4a37-aa4b-ef49d655a918",
   "metadata": {},
   "outputs": [
    {
     "name": "stdout",
     "output_type": "stream",
     "text": [
      "[6 7]\n"
     ]
    }
   ],
   "source": [
    "a=np.array([2,3,4,5,6,7])\n",
    "b=(np.array_split(a,3))\n",
    "print(b[2])  #split garera tesko 2nd index print"
   ]
  },
  {
   "cell_type": "code",
   "execution_count": 200,
   "id": "e0d2d7e5-a8ec-4e7c-b8ff-15eb43584ce4",
   "metadata": {},
   "outputs": [
    {
     "name": "stdout",
     "output_type": "stream",
     "text": [
      "[array([[2, 3, 4, 5, 6, 7]]), array([[ 1,  8,  9, 10, 11, 12]]), array([], shape=(0, 6), dtype=int64)]\n"
     ]
    }
   ],
   "source": [
    "a=np.array(([2,3,4,5,6,7],[1,8,9,10,11,12]))\n",
    "b=(np.array_split(a,3))\n",
    "print(b)"
   ]
  },
  {
   "cell_type": "markdown",
   "id": "a891ed83-0217-444d-8fdd-8195c306c9c5",
   "metadata": {},
   "source": [
    "## Adding and Removing elements in Arrays"
   ]
  },
  {
   "cell_type": "code",
   "execution_count": 296,
   "id": "8be5995b-5cb9-4109-98a5-1e96bad665c6",
   "metadata": {},
   "outputs": [],
   "source": [
    "#add\n",
    "import numpy as np\n",
    "a=np.array([2,3,4,5,6])"
   ]
  },
  {
   "cell_type": "code",
   "execution_count": 238,
   "id": "81ab348b-cf79-451d-b5e8-a8fd97f7c878",
   "metadata": {},
   "outputs": [
    {
     "name": "stdout",
     "output_type": "stream",
     "text": [
      "[2 3 4 5 6 7 8]\n"
     ]
    }
   ],
   "source": [
    "print(np.append(a,[7,8]))"
   ]
  },
  {
   "cell_type": "code",
   "execution_count": 242,
   "id": "c3ad7cf8-a29c-4603-8bfc-b326f538adda",
   "metadata": {},
   "outputs": [
    {
     "name": "stdout",
     "output_type": "stream",
     "text": [
      "[2 9 3 4 5 6]\n"
     ]
    }
   ],
   "source": [
    "print(np.insert(a,1,9))  #a ko 1 index ma 9 rakhne"
   ]
  },
  {
   "cell_type": "code",
   "execution_count": 324,
   "id": "ff79367e-8006-443c-850b-86a824fe9d95",
   "metadata": {},
   "outputs": [],
   "source": [
    "a=np.array(([2,3],[4,5]))"
   ]
  },
  {
   "cell_type": "code",
   "execution_count": 326,
   "id": "d0ebc3f4-350f-44ac-8434-e61294244b5b",
   "metadata": {},
   "outputs": [
    {
     "name": "stdout",
     "output_type": "stream",
     "text": [
      "[[2 3]\n",
      " [6 7]\n",
      " [4 5]]\n"
     ]
    }
   ],
   "source": [
    "print(np.insert(a,1,[6,7], axis=0))"
   ]
  },
  {
   "cell_type": "code",
   "execution_count": 328,
   "id": "d7a229f3-eaef-4810-a618-c6881bae9d96",
   "metadata": {},
   "outputs": [
    {
     "name": "stdout",
     "output_type": "stream",
     "text": [
      "[[2 6 3]\n",
      " [4 7 5]]\n"
     ]
    }
   ],
   "source": [
    "print(np.insert(a,1,[6,7], axis=1))"
   ]
  },
  {
   "cell_type": "code",
   "execution_count": 330,
   "id": "320e15bd-508c-4911-8cd8-cb4ed72813f1",
   "metadata": {},
   "outputs": [
    {
     "name": "stdout",
     "output_type": "stream",
     "text": [
      "[[2 3]\n",
      " [6 7]\n",
      " [4 5]\n",
      " [6 7]]\n"
     ]
    }
   ],
   "source": [
    "print(np.insert(a,[1,2],[6,7], axis=0))"
   ]
  },
  {
   "cell_type": "code",
   "execution_count": 304,
   "id": "3ffdd4fc-8395-4d02-a32f-04289b07a8dd",
   "metadata": {},
   "outputs": [],
   "source": [
    "a=np.delete(a,[1,1], axis=0)"
   ]
  },
  {
   "cell_type": "code",
   "execution_count": 300,
   "id": "afa1fe79-bb92-4782-9b52-ba49fd220c0b",
   "metadata": {},
   "outputs": [
    {
     "name": "stdout",
     "output_type": "stream",
     "text": [
      "[2 4 5 6]\n"
     ]
    }
   ],
   "source": [
    "print(a)"
   ]
  },
  {
   "cell_type": "code",
   "execution_count": 332,
   "id": "edecb6f7-4442-4552-a11e-5fb406ee1ab7",
   "metadata": {},
   "outputs": [],
   "source": [
    "#Delete\n",
    "\n",
    "a=np.delete(a,[1,1], axis=0)"
   ]
  },
  {
   "cell_type": "code",
   "execution_count": 334,
   "id": "a1ea5fdb-c8e6-4fb6-ba28-233d072c4e93",
   "metadata": {},
   "outputs": [
    {
     "name": "stdout",
     "output_type": "stream",
     "text": [
      "[[2 3]]\n"
     ]
    }
   ],
   "source": [
    "print(a)"
   ]
  },
  {
   "cell_type": "code",
   "execution_count": 342,
   "id": "1d47378d-5172-41dd-8730-4e58a03bdad2",
   "metadata": {},
   "outputs": [
    {
     "name": "stdout",
     "output_type": "stream",
     "text": [
      "[2]\n"
     ]
    }
   ],
   "source": [
    "print(np.delete(a,1))"
   ]
  },
  {
   "cell_type": "code",
   "execution_count": 344,
   "id": "be981b3a-9821-45ef-b278-9cd1b12b37ca",
   "metadata": {},
   "outputs": [
    {
     "name": "stdout",
     "output_type": "stream",
     "text": [
      "[[2 3]]\n"
     ]
    }
   ],
   "source": [
    "print(a)"
   ]
  },
  {
   "cell_type": "code",
   "execution_count": 346,
   "id": "fd7132ba-3e58-43a9-ba11-588e2ca45150",
   "metadata": {},
   "outputs": [],
   "source": [
    "a=np.delete(a,[1,1], axis=1)"
   ]
  },
  {
   "cell_type": "code",
   "execution_count": 348,
   "id": "b5fca276-1508-4b7e-895a-3b83f1b5398f",
   "metadata": {},
   "outputs": [
    {
     "name": "stdout",
     "output_type": "stream",
     "text": [
      "[[2]]\n"
     ]
    }
   ],
   "source": [
    "print(a)"
   ]
  },
  {
   "cell_type": "code",
   "execution_count": 358,
   "id": "4d1f6267-ff63-45c2-b3dc-7b22d915eb78",
   "metadata": {},
   "outputs": [
    {
     "name": "stdout",
     "output_type": "stream",
     "text": [
      "[1 2 3 4 5 6]\n",
      "[1 2 3 7 8 4 5 6]\n",
      "[1 2 3 5 6]\n"
     ]
    }
   ],
   "source": [
    "d=np.array([1,2,3,4,5,6])\n",
    "print(d)\n",
    "print(np.insert(d,[3],[7,8]))\n",
    "print(np.delete(d,[3],axis=0))"
   ]
  },
  {
   "cell_type": "code",
   "execution_count": 372,
   "id": "5a9c52e0-3e35-4a4d-94b1-d2f3a6020961",
   "metadata": {},
   "outputs": [
    {
     "name": "stdout",
     "output_type": "stream",
     "text": [
      "[[1 2 3]\n",
      " [4 5 6]]\n",
      "[[1 2 3]]\n",
      "\n",
      "[[1 3]\n",
      " [4 6]]\n"
     ]
    }
   ],
   "source": [
    "d=np.array(([1,2,3],[4,5,6]))\n",
    "print(d)\n",
    "print(np.delete(d,[1,1], axis=0))\n",
    "print()\n",
    "print(np.delete(d,[1,1], axis=1))"
   ]
  },
  {
   "cell_type": "markdown",
   "id": "57c74f31-34ea-45a7-8b81-b58d0c4477a7",
   "metadata": {},
   "source": [
    "## Sort, Filter and Search"
   ]
  },
  {
   "cell_type": "code",
   "execution_count": 17,
   "id": "ec2776e0-013b-4f0f-bfc7-ba7da86bc8a6",
   "metadata": {},
   "outputs": [
    {
     "name": "stdout",
     "output_type": "stream",
     "text": [
      "[[27 46 83]\n",
      " [37 64 80]]\n"
     ]
    }
   ],
   "source": [
    "## Sort\n",
    "\n",
    "arr=np.array([[27,83,46],[80,64,37]]) #ascending order\n",
    "print(np.sort(arr))"
   ]
  },
  {
   "cell_type": "raw",
   "id": "da6d22eb-f5e1-4182-8d55-2c2307170310",
   "metadata": {},
   "source": []
  },
  {
   "cell_type": "code",
   "execution_count": 411,
   "id": "d454f433-2129-4228-a6eb-2d84f9d63f76",
   "metadata": {},
   "outputs": [
    {
     "name": "stdout",
     "output_type": "stream",
     "text": [
      "(array([4]),)\n",
      "(array([2, 3, 4]),)\n"
     ]
    }
   ],
   "source": [
    "#Search\n",
    "\n",
    "arr=np.array([27,83,46,80,64,37])\n",
    "s=np.where(arr==64)\n",
    "r=np.where(arr%2==0)\n",
    "print(s)\n",
    "print(r)"
   ]
  },
  {
   "cell_type": "code",
   "execution_count": 3,
   "id": "642215d8-46f3-4e52-80aa-ae482fe4a0d3",
   "metadata": {},
   "outputs": [
    {
     "name": "stdout",
     "output_type": "stream",
     "text": [
      "[27 37 46 64 80 83]\n"
     ]
    }
   ],
   "source": [
    "import numpy as np\n",
    "\n",
    "arr=np.array([27,83,46,80,64,37])\n",
    "print(np.sort(arr))"
   ]
  },
  {
   "cell_type": "code",
   "execution_count": 5,
   "id": "84b9b1f0-4cec-4bf7-b182-9d016d36b945",
   "metadata": {},
   "outputs": [
    {
     "name": "stdout",
     "output_type": "stream",
     "text": [
      "1\n"
     ]
    }
   ],
   "source": [
    "ss=np.searchsorted(arr,64)   #searchsorted ma hunai parne chai ascending order natra kam gardaina\n",
    "print(ss)"
   ]
  },
  {
   "cell_type": "code",
   "execution_count": 7,
   "id": "a6d1bfab-32e9-442b-acfc-c27bef71d77f",
   "metadata": {},
   "outputs": [
    {
     "name": "stdout",
     "output_type": "stream",
     "text": [
      "4\n"
     ]
    }
   ],
   "source": [
    "ar=np.array([1,2,3,4,5])\n",
    "ss=np.searchsorted(ar,5)\n",
    "print(ss)"
   ]
  },
  {
   "cell_type": "code",
   "execution_count": 13,
   "id": "699f403b-d254-41b4-8a56-2d79c05b1fd9",
   "metadata": {},
   "outputs": [
    {
     "name": "stdout",
     "output_type": "stream",
     "text": [
      "3\n"
     ]
    }
   ],
   "source": [
    "arr=np.array([27,37, 46, 64,80, 83])\n",
    "ss=np.searchsorted(arr,64)\n",
    "print(ss)"
   ]
  },
  {
   "cell_type": "markdown",
   "id": "83c7b4e8-7683-4d33-a5cc-21c6c4295c1e",
   "metadata": {},
   "source": [
    "### Filter"
   ]
  },
  {
   "cell_type": "code",
   "execution_count": 23,
   "id": "deb93c62-b9f0-4437-9832-d2dc5b151ae8",
   "metadata": {},
   "outputs": [
    {
     "name": "stdout",
     "output_type": "stream",
     "text": [
      "[20 40]\n"
     ]
    }
   ],
   "source": [
    "ar=np.array([20,30,40,50])\n",
    "\n",
    "fa=[True,False,True,False]\n",
    "\n",
    "new=ar[fa]\n",
    "\n",
    "print(new)"
   ]
  },
  {
   "cell_type": "code",
   "execution_count": 25,
   "id": "e7a37f0c-0b90-45bc-9a01-07c64c1d5366",
   "metadata": {},
   "outputs": [
    {
     "name": "stdout",
     "output_type": "stream",
     "text": [
      "[30 50]\n"
     ]
    }
   ],
   "source": [
    "fa=[False,True, False, True]\n",
    "new=ar[fa]\n",
    "print(new)"
   ]
  },
  {
   "cell_type": "code",
   "execution_count": 27,
   "id": "45213d47-8c6f-4d66-b1f2-3d9dc502c3ce",
   "metadata": {},
   "outputs": [
    {
     "name": "stdout",
     "output_type": "stream",
     "text": [
      "[30 40 50]\n"
     ]
    }
   ],
   "source": [
    "fa=ar>25\n",
    "new=ar[fa]\n",
    "print(new)"
   ]
  },
  {
   "cell_type": "code",
   "execution_count": 33,
   "id": "52651b79-c460-4ae6-8fe2-b4a56b170bfc",
   "metadata": {},
   "outputs": [
    {
     "name": "stdout",
     "output_type": "stream",
     "text": [
      "[20 30 40 50]\n"
     ]
    }
   ],
   "source": [
    "fa=ar%2==0\n",
    "new=ar[fa]\n",
    "print(new)"
   ]
  },
  {
   "cell_type": "code",
   "execution_count": 35,
   "id": "af03c1d0-745b-4690-80ee-79bbb20c467e",
   "metadata": {},
   "outputs": [
    {
     "name": "stdout",
     "output_type": "stream",
     "text": [
      "[]\n"
     ]
    }
   ],
   "source": [
    "fa=ar%2==1\n",
    "new=ar[fa]\n",
    "print(new)"
   ]
  },
  {
   "cell_type": "markdown",
   "id": "742f36fe-c97d-4547-af4d-ee9a4481e294",
   "metadata": {},
   "source": [
    "## Aggregating Functions in Array"
   ]
  },
  {
   "cell_type": "code",
   "execution_count": 59,
   "id": "177a9ece-bd95-42eb-9eda-9519bdf68dcf",
   "metadata": {},
   "outputs": [
    {
     "name": "stdout",
     "output_type": "stream",
     "text": [
      "160\n",
      "10\n",
      "60\n",
      "5\n",
      "32.0\n"
     ]
    }
   ],
   "source": [
    "import numpy as np\n",
    "a=np.array([10,20,30,40,60])\n",
    "print(sum(a))\n",
    "print(min(a))\n",
    "print(np.max(a))\n",
    "print(np.size(a)) #yesma cnp.count hudaina size garna parcha \n",
    "print(np.mean(a))"
   ]
  },
  {
   "cell_type": "code",
   "execution_count": 61,
   "id": "740dc85b-eeca-4abe-843a-823681f97a97",
   "metadata": {},
   "outputs": [
    {
     "name": "stdout",
     "output_type": "stream",
     "text": [
      "30.0\n"
     ]
    }
   ],
   "source": [
    "print(np.median(a))"
   ]
  },
  {
   "cell_type": "code",
   "execution_count": 65,
   "id": "17cb833c-365c-49bc-833b-07df63f644d5",
   "metadata": {},
   "outputs": [
    {
     "name": "stdout",
     "output_type": "stream",
     "text": [
      "[ 10  30  60 100 160]\n"
     ]
    }
   ],
   "source": [
    "print(np.cumsum(a))  #cumulative sum 10+20 30+30 60+100"
   ]
  },
  {
   "cell_type": "code",
   "execution_count": 67,
   "id": "79b83837-dd22-4931-827d-50c068fc6673",
   "metadata": {},
   "outputs": [
    {
     "name": "stdout",
     "output_type": "stream",
     "text": [
      "[      10      200     6000   240000 14400000]\n"
     ]
    }
   ],
   "source": [
    "print(np.cumprod(a)) #cumulative product"
   ]
  },
  {
   "cell_type": "code",
   "execution_count": null,
   "id": "e215d177-c720-456e-ba87-a3deab042961",
   "metadata": {},
   "outputs": [],
   "source": []
  }
 ],
 "metadata": {
  "kernelspec": {
   "display_name": "Python 3 (ipykernel)",
   "language": "python",
   "name": "python3"
  },
  "language_info": {
   "codemirror_mode": {
    "name": "ipython",
    "version": 3
   },
   "file_extension": ".py",
   "mimetype": "text/x-python",
   "name": "python",
   "nbconvert_exporter": "python",
   "pygments_lexer": "ipython3",
   "version": "3.12.4"
  }
 },
 "nbformat": 4,
 "nbformat_minor": 5
}

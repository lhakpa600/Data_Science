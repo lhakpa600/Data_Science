{
 "cells": [
  {
   "cell_type": "code",
   "execution_count": 46,
   "id": "6a9eefb8-6f4b-4363-a183-8002f2f1babe",
   "metadata": {},
   "outputs": [],
   "source": [
    "import pandas as pd"
   ]
  },
  {
   "cell_type": "markdown",
   "id": "27553655-634a-4880-91ec-adac51896877",
   "metadata": {},
   "source": [
    "## Series"
   ]
  },
  {
   "cell_type": "code",
   "execution_count": 52,
   "id": "3f6b5bcf-ed79-47da-a0c7-dccb20f386f3",
   "metadata": {},
   "outputs": [],
   "source": [
    "ser=pd.Series(['a','b','c','d','e'],[200,450,\"Lhakpa\",\"Dolma\",\"Sherpa\"])"
   ]
  },
  {
   "cell_type": "code",
   "execution_count": 54,
   "id": "b1df1867-34ef-42a5-8e0b-a623ffe97b3e",
   "metadata": {},
   "outputs": [
    {
     "name": "stdout",
     "output_type": "stream",
     "text": [
      "200       a\n",
      "450       b\n",
      "Lhakpa    c\n",
      "Dolma     d\n",
      "Sherpa    e\n",
      "dtype: object\n"
     ]
    }
   ],
   "source": [
    "print(ser)"
   ]
  },
  {
   "cell_type": "code",
   "execution_count": 56,
   "id": "95122746-a6ee-4c56-9750-f0c20ae57f98",
   "metadata": {},
   "outputs": [
    {
     "data": {
      "text/plain": [
       "Index([200, 450, 'Lhakpa', 'Dolma', 'Sherpa'], dtype='object')"
      ]
     },
     "execution_count": 56,
     "metadata": {},
     "output_type": "execute_result"
    }
   ],
   "source": [
    "ser.index"
   ]
  },
  {
   "cell_type": "code",
   "execution_count": 58,
   "id": "8e69a539-db3b-49be-a6e3-94a9e37a5fc9",
   "metadata": {},
   "outputs": [
    {
     "data": {
      "text/plain": [
       "Lhakpa    c\n",
       "Dolma     d\n",
       "Sherpa    e\n",
       "dtype: object"
      ]
     },
     "execution_count": 58,
     "metadata": {},
     "output_type": "execute_result"
    }
   ],
   "source": [
    "ser.loc[[\"Lhakpa\",\"Dolma\",\"Sherpa\"]]"
   ]
  },
  {
   "cell_type": "code",
   "execution_count": 60,
   "id": "bb24e3b6-319d-4766-8054-0f658a5dd530",
   "metadata": {},
   "outputs": [
    {
     "data": {
      "text/plain": [
       "200    a\n",
       "dtype: object"
      ]
     },
     "execution_count": 60,
     "metadata": {},
     "output_type": "execute_result"
    }
   ],
   "source": [
    "ser[[200]]\n"
   ]
  },
  {
   "cell_type": "code",
   "execution_count": 192,
   "id": "fafd8d55-86ac-4502-9dce-ce7e0b4f56ab",
   "metadata": {},
   "outputs": [
    {
     "data": {
      "text/plain": [
       "'c'"
      ]
     },
     "execution_count": 192,
     "metadata": {},
     "output_type": "execute_result"
    }
   ],
   "source": [
    "ser.iloc[2]"
   ]
  },
  {
   "cell_type": "code",
   "execution_count": 66,
   "id": "3690f1f1-5bc6-44ca-a020-8c542ca75b73",
   "metadata": {},
   "outputs": [
    {
     "data": {
      "text/plain": [
       "200    aaa\n",
       "dtype: object"
      ]
     },
     "execution_count": 66,
     "metadata": {},
     "output_type": "execute_result"
    }
   ],
   "source": [
    "ser[[200]]*3"
   ]
  },
  {
   "cell_type": "markdown",
   "id": "81dbe3a5-e676-412b-ab5d-a2445a91bcec",
   "metadata": {},
   "source": [
    "## Data frame"
   ]
  },
  {
   "cell_type": "code",
   "execution_count": 75,
   "id": "786734d0-d0ae-4093-8568-f57daf5fabb3",
   "metadata": {},
   "outputs": [],
   "source": [
    "a={'one':pd.Series([10,20,30,40,50]),\n",
    "   'two':pd.Series([-10,-20,-30,-40,-50])\n",
    "  }"
   ]
  },
  {
   "cell_type": "code",
   "execution_count": 79,
   "id": "72940014-eec2-492e-a1e4-88f9dabff6bc",
   "metadata": {},
   "outputs": [],
   "source": [
    "df=pd.DataFrame(a)"
   ]
  },
  {
   "cell_type": "code",
   "execution_count": 81,
   "id": "ff7d0e11-fa12-41e3-9bb4-8ea51c457bce",
   "metadata": {},
   "outputs": [
    {
     "name": "stdout",
     "output_type": "stream",
     "text": [
      "   one  two\n",
      "0   10  -10\n",
      "1   20  -20\n",
      "2   30  -30\n",
      "3   40  -40\n",
      "4   50  -50\n"
     ]
    }
   ],
   "source": [
    "print(df)"
   ]
  },
  {
   "cell_type": "code",
   "execution_count": 85,
   "id": "a3ae6bc8-35aa-4e50-9948-6aae0155650d",
   "metadata": {},
   "outputs": [],
   "source": [
    "a={'one':pd.Series([10,20,30,40,50],index=['a','b','c','d','e']),\n",
    "   'two':pd.Series([-10,-20,-30,-40,-50],index=['a','b','c','d','e'])\n",
    "  }"
   ]
  },
  {
   "cell_type": "code",
   "execution_count": 103,
   "id": "72b4d3a2-4aae-4afd-aa97-0512c9e756f9",
   "metadata": {},
   "outputs": [],
   "source": [
    "df=pd.DataFrame(a)"
   ]
  },
  {
   "cell_type": "code",
   "execution_count": 105,
   "id": "580d8b01-be4d-471a-a7e2-4aad6ec3ea6e",
   "metadata": {},
   "outputs": [
    {
     "name": "stdout",
     "output_type": "stream",
     "text": [
      "   one  two\n",
      "a   10  -10\n",
      "b   20  -20\n",
      "c   30  -30\n",
      "d   40  -40\n",
      "e   50  -50\n"
     ]
    }
   ],
   "source": [
    "print(df)"
   ]
  },
  {
   "cell_type": "code",
   "execution_count": 107,
   "id": "eda4d484-fec0-481b-8837-8d2976161967",
   "metadata": {},
   "outputs": [
    {
     "data": {
      "text/html": [
       "<div>\n",
       "<style scoped>\n",
       "    .dataframe tbody tr th:only-of-type {\n",
       "        vertical-align: middle;\n",
       "    }\n",
       "\n",
       "    .dataframe tbody tr th {\n",
       "        vertical-align: top;\n",
       "    }\n",
       "\n",
       "    .dataframe thead th {\n",
       "        text-align: right;\n",
       "    }\n",
       "</style>\n",
       "<table border=\"1\" class=\"dataframe\">\n",
       "  <thead>\n",
       "    <tr style=\"text-align: right;\">\n",
       "      <th></th>\n",
       "      <th>one</th>\n",
       "      <th>two</th>\n",
       "    </tr>\n",
       "  </thead>\n",
       "  <tbody>\n",
       "    <tr>\n",
       "      <th>a</th>\n",
       "      <td>10</td>\n",
       "      <td>-10</td>\n",
       "    </tr>\n",
       "    <tr>\n",
       "      <th>b</th>\n",
       "      <td>20</td>\n",
       "      <td>-20</td>\n",
       "    </tr>\n",
       "    <tr>\n",
       "      <th>c</th>\n",
       "      <td>30</td>\n",
       "      <td>-30</td>\n",
       "    </tr>\n",
       "    <tr>\n",
       "      <th>d</th>\n",
       "      <td>40</td>\n",
       "      <td>-40</td>\n",
       "    </tr>\n",
       "    <tr>\n",
       "      <th>e</th>\n",
       "      <td>50</td>\n",
       "      <td>-50</td>\n",
       "    </tr>\n",
       "  </tbody>\n",
       "</table>\n",
       "</div>"
      ],
      "text/plain": [
       "   one  two\n",
       "a   10  -10\n",
       "b   20  -20\n",
       "c   30  -30\n",
       "d   40  -40\n",
       "e   50  -50"
      ]
     },
     "execution_count": 107,
     "metadata": {},
     "output_type": "execute_result"
    }
   ],
   "source": [
    "df"
   ]
  },
  {
   "cell_type": "code",
   "execution_count": 109,
   "id": "ad18ce91-f790-4c40-b265-759ad74ec6b7",
   "metadata": {},
   "outputs": [
    {
     "data": {
      "text/plain": [
       "Index(['a', 'b', 'c', 'd', 'e'], dtype='object')"
      ]
     },
     "execution_count": 109,
     "metadata": {},
     "output_type": "execute_result"
    }
   ],
   "source": [
    "df.index"
   ]
  },
  {
   "cell_type": "code",
   "execution_count": 111,
   "id": "6e1b6373-d0c7-46c0-94ca-7dbdc92ad394",
   "metadata": {},
   "outputs": [
    {
     "data": {
      "text/plain": [
       "one    40\n",
       "two   -40\n",
       "Name: d, dtype: int64"
      ]
     },
     "execution_count": 111,
     "metadata": {},
     "output_type": "execute_result"
    }
   ],
   "source": [
    "df.loc['d']"
   ]
  },
  {
   "cell_type": "code",
   "execution_count": 123,
   "id": "8df8f48e-30af-41be-ab53-ceeccf2011fc",
   "metadata": {},
   "outputs": [],
   "source": [
    "b={'english':pd.Series([60,89,79,37,50],index=['angel','baby','champa','dang','eve']),\n",
    "   'math':pd.Series([10,20,90,40,50],index=['angel','baby','champa','dang','eve']),\n",
    "   'science':pd.Series([50,60,70,80,90],index=['angel','baby','champa','dang','eve'])\n",
    "  }"
   ]
  },
  {
   "cell_type": "code",
   "execution_count": 125,
   "id": "6fdae9cd-2884-4551-92ad-ad0913a95433",
   "metadata": {},
   "outputs": [],
   "source": [
    "ad=pd.DataFrame(b)"
   ]
  },
  {
   "cell_type": "code",
   "execution_count": 127,
   "id": "80131220-d2ac-4d8d-bdd6-36d75928bc6c",
   "metadata": {},
   "outputs": [
    {
     "data": {
      "text/html": [
       "<div>\n",
       "<style scoped>\n",
       "    .dataframe tbody tr th:only-of-type {\n",
       "        vertical-align: middle;\n",
       "    }\n",
       "\n",
       "    .dataframe tbody tr th {\n",
       "        vertical-align: top;\n",
       "    }\n",
       "\n",
       "    .dataframe thead th {\n",
       "        text-align: right;\n",
       "    }\n",
       "</style>\n",
       "<table border=\"1\" class=\"dataframe\">\n",
       "  <thead>\n",
       "    <tr style=\"text-align: right;\">\n",
       "      <th></th>\n",
       "      <th>english</th>\n",
       "      <th>math</th>\n",
       "      <th>science</th>\n",
       "    </tr>\n",
       "  </thead>\n",
       "  <tbody>\n",
       "    <tr>\n",
       "      <th>angel</th>\n",
       "      <td>60</td>\n",
       "      <td>10</td>\n",
       "      <td>50</td>\n",
       "    </tr>\n",
       "    <tr>\n",
       "      <th>baby</th>\n",
       "      <td>89</td>\n",
       "      <td>20</td>\n",
       "      <td>60</td>\n",
       "    </tr>\n",
       "    <tr>\n",
       "      <th>champa</th>\n",
       "      <td>79</td>\n",
       "      <td>90</td>\n",
       "      <td>70</td>\n",
       "    </tr>\n",
       "    <tr>\n",
       "      <th>dang</th>\n",
       "      <td>37</td>\n",
       "      <td>40</td>\n",
       "      <td>80</td>\n",
       "    </tr>\n",
       "    <tr>\n",
       "      <th>eve</th>\n",
       "      <td>50</td>\n",
       "      <td>50</td>\n",
       "      <td>90</td>\n",
       "    </tr>\n",
       "  </tbody>\n",
       "</table>\n",
       "</div>"
      ],
      "text/plain": [
       "        english  math  science\n",
       "angel        60    10       50\n",
       "baby         89    20       60\n",
       "champa       79    90       70\n",
       "dang         37    40       80\n",
       "eve          50    50       90"
      ]
     },
     "execution_count": 127,
     "metadata": {},
     "output_type": "execute_result"
    }
   ],
   "source": [
    "ad"
   ]
  },
  {
   "cell_type": "code",
   "execution_count": 129,
   "id": "4275393f-ab8a-4e0f-93b8-ade70f1d4c96",
   "metadata": {},
   "outputs": [
    {
     "data": {
      "text/plain": [
       "english    79\n",
       "math       90\n",
       "science    70\n",
       "Name: champa, dtype: int64"
      ]
     },
     "execution_count": 129,
     "metadata": {},
     "output_type": "execute_result"
    }
   ],
   "source": [
    "ad.iloc[2]"
   ]
  },
  {
   "cell_type": "code",
   "execution_count": null,
   "id": "0475dde4-df66-4c48-83af-df9012853597",
   "metadata": {},
   "outputs": [],
   "source": [
    "b={'english':pd.Series([60,89,79,37,50]),\n",
    "   'math':pd.Series([10,20,90,40,50]),\n",
    "   'science':pd.Series([50,60,70,80,90])\n",
    "  }"
   ]
  },
  {
   "cell_type": "code",
   "execution_count": 143,
   "id": "952c8ea4-bc1d-4002-a6c6-ab7a40bc5628",
   "metadata": {},
   "outputs": [],
   "source": [
    "ad=pd.DataFrame(b,index=['angel','baby','champa','dang','eve'])\n"
   ]
  },
  {
   "cell_type": "code",
   "execution_count": 151,
   "id": "29c13fdc-fbc0-4397-85b0-f649cc11ddc4",
   "metadata": {},
   "outputs": [
    {
     "data": {
      "text/html": [
       "<div>\n",
       "<style scoped>\n",
       "    .dataframe tbody tr th:only-of-type {\n",
       "        vertical-align: middle;\n",
       "    }\n",
       "\n",
       "    .dataframe tbody tr th {\n",
       "        vertical-align: top;\n",
       "    }\n",
       "\n",
       "    .dataframe thead th {\n",
       "        text-align: right;\n",
       "    }\n",
       "</style>\n",
       "<table border=\"1\" class=\"dataframe\">\n",
       "  <thead>\n",
       "    <tr style=\"text-align: right;\">\n",
       "      <th></th>\n",
       "      <th>english</th>\n",
       "      <th>math</th>\n",
       "      <th>science</th>\n",
       "    </tr>\n",
       "  </thead>\n",
       "  <tbody>\n",
       "    <tr>\n",
       "      <th>angel</th>\n",
       "      <td>NaN</td>\n",
       "      <td>NaN</td>\n",
       "      <td>NaN</td>\n",
       "    </tr>\n",
       "    <tr>\n",
       "      <th>baby</th>\n",
       "      <td>NaN</td>\n",
       "      <td>NaN</td>\n",
       "      <td>NaN</td>\n",
       "    </tr>\n",
       "    <tr>\n",
       "      <th>champa</th>\n",
       "      <td>NaN</td>\n",
       "      <td>NaN</td>\n",
       "      <td>NaN</td>\n",
       "    </tr>\n",
       "    <tr>\n",
       "      <th>dang</th>\n",
       "      <td>NaN</td>\n",
       "      <td>NaN</td>\n",
       "      <td>NaN</td>\n",
       "    </tr>\n",
       "    <tr>\n",
       "      <th>eve</th>\n",
       "      <td>NaN</td>\n",
       "      <td>NaN</td>\n",
       "      <td>NaN</td>\n",
       "    </tr>\n",
       "  </tbody>\n",
       "</table>\n",
       "</div>"
      ],
      "text/plain": [
       "        english  math  science\n",
       "angel       NaN   NaN      NaN\n",
       "baby        NaN   NaN      NaN\n",
       "champa      NaN   NaN      NaN\n",
       "dang        NaN   NaN      NaN\n",
       "eve         NaN   NaN      NaN"
      ]
     },
     "execution_count": 151,
     "metadata": {},
     "output_type": "execute_result"
    }
   ],
   "source": [
    "ad"
   ]
  },
  {
   "cell_type": "code",
   "execution_count": 155,
   "id": "e745fba0-4eec-4a75-af7d-ee8c6ff60388",
   "metadata": {},
   "outputs": [],
   "source": [
    "data=[{'ram':100,'shyam':150},{'rita':50,'gita':80}]"
   ]
  },
  {
   "cell_type": "code",
   "execution_count": 157,
   "id": "eead67ef-5efd-4235-9520-12ab80a71de3",
   "metadata": {},
   "outputs": [],
   "source": [
    "df1=pd.DataFrame(data)"
   ]
  },
  {
   "cell_type": "code",
   "execution_count": 159,
   "id": "1a432986-f9ea-4c64-b761-0de8d4d8702a",
   "metadata": {},
   "outputs": [
    {
     "data": {
      "text/html": [
       "<div>\n",
       "<style scoped>\n",
       "    .dataframe tbody tr th:only-of-type {\n",
       "        vertical-align: middle;\n",
       "    }\n",
       "\n",
       "    .dataframe tbody tr th {\n",
       "        vertical-align: top;\n",
       "    }\n",
       "\n",
       "    .dataframe thead th {\n",
       "        text-align: right;\n",
       "    }\n",
       "</style>\n",
       "<table border=\"1\" class=\"dataframe\">\n",
       "  <thead>\n",
       "    <tr style=\"text-align: right;\">\n",
       "      <th></th>\n",
       "      <th>ram</th>\n",
       "      <th>shyam</th>\n",
       "      <th>rita</th>\n",
       "      <th>gita</th>\n",
       "    </tr>\n",
       "  </thead>\n",
       "  <tbody>\n",
       "    <tr>\n",
       "      <th>0</th>\n",
       "      <td>100.0</td>\n",
       "      <td>150.0</td>\n",
       "      <td>NaN</td>\n",
       "      <td>NaN</td>\n",
       "    </tr>\n",
       "    <tr>\n",
       "      <th>1</th>\n",
       "      <td>NaN</td>\n",
       "      <td>NaN</td>\n",
       "      <td>50.0</td>\n",
       "      <td>80.0</td>\n",
       "    </tr>\n",
       "  </tbody>\n",
       "</table>\n",
       "</div>"
      ],
      "text/plain": [
       "     ram  shyam  rita  gita\n",
       "0  100.0  150.0   NaN   NaN\n",
       "1    NaN    NaN  50.0  80.0"
      ]
     },
     "execution_count": 159,
     "metadata": {},
     "output_type": "execute_result"
    }
   ],
   "source": [
    "df1"
   ]
  },
  {
   "cell_type": "code",
   "execution_count": 161,
   "id": "c7a27156-c1bb-4454-96ae-a75680e7e037",
   "metadata": {},
   "outputs": [],
   "source": [
    "df2=pd.DataFrame(data,columns=['ram','rita'])"
   ]
  },
  {
   "cell_type": "code",
   "execution_count": 163,
   "id": "ac17cedc-478f-40bc-8421-c5234cf4a157",
   "metadata": {},
   "outputs": [
    {
     "data": {
      "text/html": [
       "<div>\n",
       "<style scoped>\n",
       "    .dataframe tbody tr th:only-of-type {\n",
       "        vertical-align: middle;\n",
       "    }\n",
       "\n",
       "    .dataframe tbody tr th {\n",
       "        vertical-align: top;\n",
       "    }\n",
       "\n",
       "    .dataframe thead th {\n",
       "        text-align: right;\n",
       "    }\n",
       "</style>\n",
       "<table border=\"1\" class=\"dataframe\">\n",
       "  <thead>\n",
       "    <tr style=\"text-align: right;\">\n",
       "      <th></th>\n",
       "      <th>ram</th>\n",
       "      <th>rita</th>\n",
       "    </tr>\n",
       "  </thead>\n",
       "  <tbody>\n",
       "    <tr>\n",
       "      <th>0</th>\n",
       "      <td>100.0</td>\n",
       "      <td>NaN</td>\n",
       "    </tr>\n",
       "    <tr>\n",
       "      <th>1</th>\n",
       "      <td>NaN</td>\n",
       "      <td>50.0</td>\n",
       "    </tr>\n",
       "  </tbody>\n",
       "</table>\n",
       "</div>"
      ],
      "text/plain": [
       "     ram  rita\n",
       "0  100.0   NaN\n",
       "1    NaN  50.0"
      ]
     },
     "execution_count": 163,
     "metadata": {},
     "output_type": "execute_result"
    }
   ],
   "source": [
    "df2"
   ]
  },
  {
   "cell_type": "code",
   "execution_count": 180,
   "id": "182a17db-98b3-4f2e-9e42-153eac3582f5",
   "metadata": {},
   "outputs": [],
   "source": [
    "b={'english':([60,89,79,37,50]),\n",
    "   'math':([10,20,90,40,50]),\n",
    "   'science':([50,60,70,80,90])\n",
    "  }\n",
    "marks=pd.DataFrame(b,index=['tenzin','dawa','lhakpa','tsering','hero'])"
   ]
  },
  {
   "cell_type": "code",
   "execution_count": 182,
   "id": "f41ddd16-60c6-4b14-8748-f0869682b527",
   "metadata": {},
   "outputs": [
    {
     "data": {
      "text/html": [
       "<div>\n",
       "<style scoped>\n",
       "    .dataframe tbody tr th:only-of-type {\n",
       "        vertical-align: middle;\n",
       "    }\n",
       "\n",
       "    .dataframe tbody tr th {\n",
       "        vertical-align: top;\n",
       "    }\n",
       "\n",
       "    .dataframe thead th {\n",
       "        text-align: right;\n",
       "    }\n",
       "</style>\n",
       "<table border=\"1\" class=\"dataframe\">\n",
       "  <thead>\n",
       "    <tr style=\"text-align: right;\">\n",
       "      <th></th>\n",
       "      <th>english</th>\n",
       "      <th>math</th>\n",
       "      <th>science</th>\n",
       "    </tr>\n",
       "  </thead>\n",
       "  <tbody>\n",
       "    <tr>\n",
       "      <th>tenzin</th>\n",
       "      <td>60</td>\n",
       "      <td>10</td>\n",
       "      <td>50</td>\n",
       "    </tr>\n",
       "    <tr>\n",
       "      <th>dawa</th>\n",
       "      <td>89</td>\n",
       "      <td>20</td>\n",
       "      <td>60</td>\n",
       "    </tr>\n",
       "    <tr>\n",
       "      <th>lhakpa</th>\n",
       "      <td>79</td>\n",
       "      <td>90</td>\n",
       "      <td>70</td>\n",
       "    </tr>\n",
       "    <tr>\n",
       "      <th>tsering</th>\n",
       "      <td>37</td>\n",
       "      <td>40</td>\n",
       "      <td>80</td>\n",
       "    </tr>\n",
       "    <tr>\n",
       "      <th>hero</th>\n",
       "      <td>50</td>\n",
       "      <td>50</td>\n",
       "      <td>90</td>\n",
       "    </tr>\n",
       "  </tbody>\n",
       "</table>\n",
       "</div>"
      ],
      "text/plain": [
       "         english  math  science\n",
       "tenzin        60    10       50\n",
       "dawa          89    20       60\n",
       "lhakpa        79    90       70\n",
       "tsering       37    40       80\n",
       "hero          50    50       90"
      ]
     },
     "execution_count": 182,
     "metadata": {},
     "output_type": "execute_result"
    }
   ],
   "source": [
    "marks"
   ]
  },
  {
   "cell_type": "markdown",
   "id": "49b1e9c4-c274-4c9e-9bca-84bb1b203621",
   "metadata": {},
   "source": [
    "## head & tail"
   ]
  },
  {
   "cell_type": "code",
   "execution_count": 172,
   "id": "cf5db933-eaab-4b98-9870-bc62cf6107ce",
   "metadata": {},
   "outputs": [
    {
     "data": {
      "text/plain": [
       "pandas.core.frame.DataFrame"
      ]
     },
     "execution_count": 172,
     "metadata": {},
     "output_type": "execute_result"
    }
   ],
   "source": [
    "type(marks)"
   ]
  },
  {
   "cell_type": "code",
   "execution_count": 184,
   "id": "7afae2fe-c320-42a1-9b42-d380899bab8c",
   "metadata": {},
   "outputs": [
    {
     "data": {
      "text/html": [
       "<div>\n",
       "<style scoped>\n",
       "    .dataframe tbody tr th:only-of-type {\n",
       "        vertical-align: middle;\n",
       "    }\n",
       "\n",
       "    .dataframe tbody tr th {\n",
       "        vertical-align: top;\n",
       "    }\n",
       "\n",
       "    .dataframe thead th {\n",
       "        text-align: right;\n",
       "    }\n",
       "</style>\n",
       "<table border=\"1\" class=\"dataframe\">\n",
       "  <thead>\n",
       "    <tr style=\"text-align: right;\">\n",
       "      <th></th>\n",
       "      <th>english</th>\n",
       "      <th>math</th>\n",
       "      <th>science</th>\n",
       "    </tr>\n",
       "  </thead>\n",
       "  <tbody>\n",
       "    <tr>\n",
       "      <th>tenzin</th>\n",
       "      <td>60</td>\n",
       "      <td>10</td>\n",
       "      <td>50</td>\n",
       "    </tr>\n",
       "    <tr>\n",
       "      <th>dawa</th>\n",
       "      <td>89</td>\n",
       "      <td>20</td>\n",
       "      <td>60</td>\n",
       "    </tr>\n",
       "    <tr>\n",
       "      <th>lhakpa</th>\n",
       "      <td>79</td>\n",
       "      <td>90</td>\n",
       "      <td>70</td>\n",
       "    </tr>\n",
       "    <tr>\n",
       "      <th>tsering</th>\n",
       "      <td>37</td>\n",
       "      <td>40</td>\n",
       "      <td>80</td>\n",
       "    </tr>\n",
       "    <tr>\n",
       "      <th>hero</th>\n",
       "      <td>50</td>\n",
       "      <td>50</td>\n",
       "      <td>90</td>\n",
       "    </tr>\n",
       "  </tbody>\n",
       "</table>\n",
       "</div>"
      ],
      "text/plain": [
       "         english  math  science\n",
       "tenzin        60    10       50\n",
       "dawa          89    20       60\n",
       "lhakpa        79    90       70\n",
       "tsering       37    40       80\n",
       "hero          50    50       90"
      ]
     },
     "execution_count": 184,
     "metadata": {},
     "output_type": "execute_result"
    }
   ],
   "source": [
    "marks.head()"
   ]
  },
  {
   "cell_type": "code",
   "execution_count": 186,
   "id": "90465eba-902e-4ed5-878f-73b43820bdbc",
   "metadata": {},
   "outputs": [
    {
     "data": {
      "text/html": [
       "<div>\n",
       "<style scoped>\n",
       "    .dataframe tbody tr th:only-of-type {\n",
       "        vertical-align: middle;\n",
       "    }\n",
       "\n",
       "    .dataframe tbody tr th {\n",
       "        vertical-align: top;\n",
       "    }\n",
       "\n",
       "    .dataframe thead th {\n",
       "        text-align: right;\n",
       "    }\n",
       "</style>\n",
       "<table border=\"1\" class=\"dataframe\">\n",
       "  <thead>\n",
       "    <tr style=\"text-align: right;\">\n",
       "      <th></th>\n",
       "      <th>english</th>\n",
       "      <th>math</th>\n",
       "      <th>science</th>\n",
       "    </tr>\n",
       "  </thead>\n",
       "  <tbody>\n",
       "    <tr>\n",
       "      <th>tenzin</th>\n",
       "      <td>60</td>\n",
       "      <td>10</td>\n",
       "      <td>50</td>\n",
       "    </tr>\n",
       "    <tr>\n",
       "      <th>dawa</th>\n",
       "      <td>89</td>\n",
       "      <td>20</td>\n",
       "      <td>60</td>\n",
       "    </tr>\n",
       "    <tr>\n",
       "      <th>lhakpa</th>\n",
       "      <td>79</td>\n",
       "      <td>90</td>\n",
       "      <td>70</td>\n",
       "    </tr>\n",
       "    <tr>\n",
       "      <th>tsering</th>\n",
       "      <td>37</td>\n",
       "      <td>40</td>\n",
       "      <td>80</td>\n",
       "    </tr>\n",
       "    <tr>\n",
       "      <th>hero</th>\n",
       "      <td>50</td>\n",
       "      <td>50</td>\n",
       "      <td>90</td>\n",
       "    </tr>\n",
       "  </tbody>\n",
       "</table>\n",
       "</div>"
      ],
      "text/plain": [
       "         english  math  science\n",
       "tenzin        60    10       50\n",
       "dawa          89    20       60\n",
       "lhakpa        79    90       70\n",
       "tsering       37    40       80\n",
       "hero          50    50       90"
      ]
     },
     "execution_count": 186,
     "metadata": {},
     "output_type": "execute_result"
    }
   ],
   "source": [
    "marks.tail()"
   ]
  },
  {
   "cell_type": "code",
   "execution_count": 190,
   "id": "82ab5a8d-b9d6-4cdb-b199-f79f6e8bb30a",
   "metadata": {},
   "outputs": [
    {
     "data": {
      "text/html": [
       "<div>\n",
       "<style scoped>\n",
       "    .dataframe tbody tr th:only-of-type {\n",
       "        vertical-align: middle;\n",
       "    }\n",
       "\n",
       "    .dataframe tbody tr th {\n",
       "        vertical-align: top;\n",
       "    }\n",
       "\n",
       "    .dataframe thead th {\n",
       "        text-align: right;\n",
       "    }\n",
       "</style>\n",
       "<table border=\"1\" class=\"dataframe\">\n",
       "  <thead>\n",
       "    <tr style=\"text-align: right;\">\n",
       "      <th></th>\n",
       "      <th>english</th>\n",
       "      <th>math</th>\n",
       "      <th>science</th>\n",
       "    </tr>\n",
       "  </thead>\n",
       "  <tbody>\n",
       "    <tr>\n",
       "      <th>tenzin</th>\n",
       "      <td>60</td>\n",
       "      <td>10</td>\n",
       "      <td>50</td>\n",
       "    </tr>\n",
       "    <tr>\n",
       "      <th>dawa</th>\n",
       "      <td>89</td>\n",
       "      <td>20</td>\n",
       "      <td>60</td>\n",
       "    </tr>\n",
       "    <tr>\n",
       "      <th>lhakpa</th>\n",
       "      <td>79</td>\n",
       "      <td>90</td>\n",
       "      <td>70</td>\n",
       "    </tr>\n",
       "    <tr>\n",
       "      <th>tsering</th>\n",
       "      <td>37</td>\n",
       "      <td>40</td>\n",
       "      <td>80</td>\n",
       "    </tr>\n",
       "    <tr>\n",
       "      <th>hero</th>\n",
       "      <td>50</td>\n",
       "      <td>50</td>\n",
       "      <td>90</td>\n",
       "    </tr>\n",
       "  </tbody>\n",
       "</table>\n",
       "</div>"
      ],
      "text/plain": [
       "         english  math  science\n",
       "tenzin        60    10       50\n",
       "dawa          89    20       60\n",
       "lhakpa        79    90       70\n",
       "tsering       37    40       80\n",
       "hero          50    50       90"
      ]
     },
     "execution_count": 190,
     "metadata": {},
     "output_type": "execute_result"
    }
   ],
   "source": [
    "marks.tail()"
   ]
  },
  {
   "cell_type": "code",
   "execution_count": null,
   "id": "fb3c7551-306b-40c0-9d68-40443cbbaf01",
   "metadata": {},
   "outputs": [],
   "source": []
  }
 ],
 "metadata": {
  "kernelspec": {
   "display_name": "Python 3 (ipykernel)",
   "language": "python",
   "name": "python3"
  },
  "language_info": {
   "codemirror_mode": {
    "name": "ipython",
    "version": 3
   },
   "file_extension": ".py",
   "mimetype": "text/x-python",
   "name": "python",
   "nbconvert_exporter": "python",
   "pygments_lexer": "ipython3",
   "version": "3.12.4"
  }
 },
 "nbformat": 4,
 "nbformat_minor": 5
}
